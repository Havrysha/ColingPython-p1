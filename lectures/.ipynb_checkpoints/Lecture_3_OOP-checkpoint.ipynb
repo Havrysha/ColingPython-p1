{
 "cells": [
  {
   "cell_type": "markdown",
   "id": "9b454b16",
   "metadata": {
    "slideshow": {
     "slide_type": "slide"
    }
   },
   "source": [
    "### Объектно-ориентированное программирование"
   ]
  },
  {
   "cell_type": "code",
   "execution_count": 1,
   "id": "45ea4840",
   "metadata": {
    "slideshow": {
     "slide_type": "slide"
    }
   },
   "outputs": [
    {
     "name": "stdout",
     "output_type": "stream",
     "text": [
      "<class 'int'>\n",
      "<class 'list'>\n",
      "<class 'dict'>\n"
     ]
    }
   ],
   "source": [
    "# Все типы — это классы\n",
    "\n",
    "print(int)\n",
    "print(list)\n",
    "print(dict)"
   ]
  },
  {
   "cell_type": "code",
   "execution_count": 2,
   "id": "de030222",
   "metadata": {
    "slideshow": {
     "slide_type": "slide"
    }
   },
   "outputs": [
    {
     "name": "stdout",
     "output_type": "stream",
     "text": [
      "True\n",
      "False\n"
     ]
    }
   ],
   "source": [
    "# Хорошая проверка на принадлежность типу\n",
    "\n",
    "a = 42\n",
    "\n",
    "print(isinstance(a, int))\n",
    "print(isinstance(a, float))"
   ]
  },
  {
   "cell_type": "markdown",
   "id": "bce4fbbf",
   "metadata": {
    "slideshow": {
     "slide_type": "slide"
    }
   },
   "source": [
    "__Объявление класса__"
   ]
  },
  {
   "cell_type": "code",
   "execution_count": 3,
   "id": "019e929e",
   "metadata": {
    "slideshow": {
     "slide_type": "slide"
    }
   },
   "outputs": [],
   "source": [
    "class Human:\n",
    "    pass"
   ]
  },
  {
   "cell_type": "code",
   "execution_count": 4,
   "id": "aa7416a6",
   "metadata": {
    "slideshow": {
     "slide_type": "slide"
    }
   },
   "outputs": [],
   "source": [
    "# С помощью строки с тройными кавычками можно описать то, что делает класс или функция — документация \n",
    "# Между этими кавычками можно писать многострочный комментарий \n",
    "\n",
    "class Robot:\n",
    "    \"\"\"\n",
    "    Класс позволяет создавать роботов\n",
    "    \"\"\""
   ]
  },
  {
   "cell_type": "code",
   "execution_count": 12,
   "id": "76c12147",
   "metadata": {
    "slideshow": {
     "slide_type": "fragment"
    }
   },
   "outputs": [
    {
     "data": {
      "text/plain": [
       "'Класс позволяет создавать роботов'"
      ]
     },
     "execution_count": 12,
     "metadata": {},
     "output_type": "execute_result"
    }
   ],
   "source": [
    "Robot.__doc__"
   ]
  },
  {
   "cell_type": "code",
   "execution_count": 5,
   "id": "d0171c15",
   "metadata": {
    "slideshow": {
     "slide_type": "fragment"
    }
   },
   "outputs": [
    {
     "name": "stdout",
     "output_type": "stream",
     "text": [
      "<class '__main__.Robot'>\n"
     ]
    }
   ],
   "source": [
    "print(Robot)  # main — имя модуля, в котором определен класс (без импорта)"
   ]
  },
  {
   "cell_type": "code",
   "execution_count": 6,
   "id": "428a530a",
   "metadata": {
    "slideshow": {
     "slide_type": "fragment"
    }
   },
   "outputs": [
    {
     "name": "stdout",
     "output_type": "stream",
     "text": [
      "['__class__', '__delattr__', '__dict__', '__dir__', '__doc__', '__eq__', '__format__', '__ge__', '__getattribute__', '__gt__', '__hash__', '__init__', '__init_subclass__', '__le__', '__lt__', '__module__', '__ne__', '__new__', '__reduce__', '__reduce_ex__', '__repr__', '__setattr__', '__sizeof__', '__str__', '__subclasshook__', '__weakref__']\n"
     ]
    }
   ],
   "source": [
    "# Функция dir возвращает список допустимых атрибутов для данного объекта\n",
    "\n",
    "print(dir(Robot))"
   ]
  },
  {
   "cell_type": "code",
   "execution_count": 7,
   "id": "70525cea",
   "metadata": {
    "slideshow": {
     "slide_type": "subslide"
    }
   },
   "outputs": [
    {
     "data": {
      "text/plain": [
       "<__main__.Planet at 0x7f87d06dbcd0>"
      ]
     },
     "execution_count": 7,
     "metadata": {},
     "output_type": "execute_result"
    }
   ],
   "source": [
    "# Экземпляры класса или как создать конкретную планету?\n",
    "\n",
    "class Planet:\n",
    "    pass\n",
    "\n",
    "planet = Planet() # экземпляр класса\n",
    "planet # object != class"
   ]
  },
  {
   "cell_type": "code",
   "execution_count": 8,
   "id": "deb89f14",
   "metadata": {
    "slideshow": {
     "slide_type": "slide"
    }
   },
   "outputs": [
    {
     "data": {
      "text/plain": [
       "[<__main__.Planet at 0x7f87d06da1a0>,\n",
       " <__main__.Planet at 0x7f87d06dba60>,\n",
       " <__main__.Planet at 0x7f87d06d8eb0>,\n",
       " <__main__.Planet at 0x7f87d06d97b0>,\n",
       " <__main__.Planet at 0x7f87d06d9840>,\n",
       " <__main__.Planet at 0x7f87d06da530>,\n",
       " <__main__.Planet at 0x7f87d06dbfa0>,\n",
       " <__main__.Planet at 0x7f87d06d9e40>]"
      ]
     },
     "execution_count": 8,
     "metadata": {},
     "output_type": "execute_result"
    }
   ],
   "source": [
    "solar_system = []\n",
    "\n",
    "for i in range(8):\n",
    "    planet = Planet()\n",
    "    solar_system.append(planet)\n",
    "\n",
    "solar_system"
   ]
  },
  {
   "cell_type": "code",
   "execution_count": 9,
   "id": "e90a8e8f",
   "metadata": {
    "slideshow": {
     "slide_type": "subslide"
    }
   },
   "outputs": [
    {
     "data": {
      "text/plain": [
       "{<__main__.Planet at 0x7f87d06dbb20>: 0,\n",
       " <__main__.Planet at 0x7f87d06da5f0>: 1,\n",
       " <__main__.Planet at 0x7f87d06da650>: 2,\n",
       " <__main__.Planet at 0x7f87d06da7a0>: 3,\n",
       " <__main__.Planet at 0x7f87d06dba90>: 4,\n",
       " <__main__.Planet at 0x7f87d06db5e0>: 5,\n",
       " <__main__.Planet at 0x7f87d06dbb50>: 6,\n",
       " <__main__.Planet at 0x7f87d06d91e0>: 7}"
      ]
     },
     "execution_count": 9,
     "metadata": {},
     "output_type": "execute_result"
    }
   ],
   "source": [
    "solar_system = {}\n",
    "\n",
    "for i in range(8):\n",
    "    planet = Planet()\n",
    "    solar_system[planet] = i\n",
    "\n",
    "solar_system"
   ]
  },
  {
   "cell_type": "code",
   "execution_count": 10,
   "id": "a1bebc7f",
   "metadata": {
    "slideshow": {
     "slide_type": "slide"
    }
   },
   "outputs": [],
   "source": [
    "class Planet:\n",
    "    \n",
    "    # Этот магический метод вызывается при инициализации класса\n",
    "    # self — ссылка на созданный экземпляр класса\n",
    "    def __init__(self, name):\n",
    "        self.name = name # атрибут"
   ]
  },
  {
   "cell_type": "code",
   "execution_count": 11,
   "id": "5ab21f50",
   "metadata": {
    "scrolled": true,
    "slideshow": {
     "slide_type": "fragment"
    }
   },
   "outputs": [
    {
     "name": "stdout",
     "output_type": "stream",
     "text": [
      "Earth\n",
      "<__main__.Planet object at 0x7f87d06d9cf0>\n"
     ]
    }
   ],
   "source": [
    "earth = Planet('Earth')\n",
    "print(earth.name)\n",
    "print(earth)"
   ]
  },
  {
   "cell_type": "markdown",
   "id": "00781a29",
   "metadata": {
    "slideshow": {
     "slide_type": "subslide"
    }
   },
   "source": [
    "Объекты могут хранить данные в обычных переменных, которые принадлежат объекту. Переменные, принадлежащие объекту или классу, называют __полями__. Объекты могут также обладать функционалом, т.е. иметь функции, принадлежащие классу. Такие функции принято называть __методами__ класса. Всё вместе (поля и методы) принято называть __атрибутами__ класса."
   ]
  },
  {
   "cell_type": "code",
   "execution_count": 13,
   "id": "d35e9cfc",
   "metadata": {
    "slideshow": {
     "slide_type": "slide"
    }
   },
   "outputs": [],
   "source": [
    "class Planet:\n",
    "    \n",
    "    def __init__(self, name):\n",
    "        self.name = name\n",
    "    \n",
    "    # Этот магический метод определяет, что выводится при print объекта\n",
    "    def __str__(self):\n",
    "        return self.name"
   ]
  },
  {
   "cell_type": "code",
   "execution_count": 14,
   "id": "7baddae6",
   "metadata": {
    "slideshow": {
     "slide_type": "fragment"
    }
   },
   "outputs": [
    {
     "name": "stdout",
     "output_type": "stream",
     "text": [
      "Earth\n"
     ]
    }
   ],
   "source": [
    "earth = Planet('Earth')\n",
    "print(earth)"
   ]
  },
  {
   "cell_type": "code",
   "execution_count": 15,
   "id": "9475e364",
   "metadata": {
    "slideshow": {
     "slide_type": "subslide"
    }
   },
   "outputs": [
    {
     "name": "stdout",
     "output_type": "stream",
     "text": [
      "[<__main__.Planet object at 0x7f87d06db130>, <__main__.Planet object at 0x7f87d06d9c30>, <__main__.Planet object at 0x7f87d06da770>, <__main__.Planet object at 0x7f87d06da980>, <__main__.Planet object at 0x7f87d06dacb0>, <__main__.Planet object at 0x7f87d06dabf0>, <__main__.Planet object at 0x7f87d06d9060>, <__main__.Planet object at 0x7f87d06db190>]\n"
     ]
    }
   ],
   "source": [
    "solar_system = []\n",
    "\n",
    "planet_names = [\n",
    "    'Mercury', 'Venus', 'Earth', 'Mars',\n",
    "    'Jupiter', 'Saturn', 'Uranus', 'Neptune'\n",
    "]\n",
    "\n",
    "for name in planet_names:\n",
    "    planet = Planet(name)\n",
    "    solar_system.append(planet)\n",
    "\n",
    "print(solar_system)"
   ]
  },
  {
   "cell_type": "code",
   "execution_count": 16,
   "id": "36b984e0",
   "metadata": {
    "slideshow": {
     "slide_type": "subslide"
    }
   },
   "outputs": [],
   "source": [
    "class Planet:\n",
    "    \n",
    "    def __init__(self, name):\n",
    "        self.name = name\n",
    "    \n",
    "    # Этот магический метод определяет, что выводится при print внутреннего представления объекта, его описание\n",
    "    def __repr__(self):\n",
    "        return f\"Planet {self.name}\""
   ]
  },
  {
   "cell_type": "code",
   "execution_count": 17,
   "id": "28d23094",
   "metadata": {
    "slideshow": {
     "slide_type": "subslide"
    }
   },
   "outputs": [
    {
     "name": "stdout",
     "output_type": "stream",
     "text": [
      "[Planet Mercury, Planet Venus, Planet Earth, Planet Mars, Planet Jupiter, Planet Saturn, Planet Uranus, Planet Neptune]\n"
     ]
    }
   ],
   "source": [
    "solar_system = []\n",
    "\n",
    "planet_names = [\n",
    "    'Mercury', 'Venus', 'Earth', 'Mars',\n",
    "    'Jupiter', 'Saturn', 'Uranus', 'Neptune'\n",
    "]\n",
    "\n",
    "for name in planet_names:\n",
    "    planet = Planet(name)\n",
    "    solar_system.append(planet)\n",
    "\n",
    "print(solar_system)"
   ]
  },
  {
   "cell_type": "markdown",
   "id": "313001b0",
   "metadata": {
    "slideshow": {
     "slide_type": "subslide"
    }
   },
   "source": [
    "[Чем отличается __repr__ от __str__?](https://ru.stackoverflow.com/questions/534440/%D0%A7%D0%B5%D0%BC-%D0%BE%D1%82%D0%BB%D0%B8%D1%87%D0%B0%D0%B5%D1%82%D1%81%D1%8F-repr-%D0%BE%D1%82-str)"
   ]
  },
  {
   "cell_type": "markdown",
   "id": "1e8ec787",
   "metadata": {
    "slideshow": {
     "slide_type": "slide"
    }
   },
   "source": [
    "__Атрибуты экземпляра__"
   ]
  },
  {
   "cell_type": "code",
   "execution_count": 18,
   "id": "92424e4b",
   "metadata": {
    "slideshow": {
     "slide_type": "fragment"
    }
   },
   "outputs": [
    {
     "name": "stdout",
     "output_type": "stream",
     "text": [
      "Planet Mars\n"
     ]
    }
   ],
   "source": [
    "mars = Planet('Mars')\n",
    "print(mars)"
   ]
  },
  {
   "cell_type": "code",
   "execution_count": 19,
   "id": "eb969cf7",
   "metadata": {
    "slideshow": {
     "slide_type": "fragment"
    }
   },
   "outputs": [
    {
     "data": {
      "text/plain": [
       "'Mars'"
      ]
     },
     "execution_count": 19,
     "metadata": {},
     "output_type": "execute_result"
    }
   ],
   "source": [
    "mars.name"
   ]
  },
  {
   "cell_type": "code",
   "execution_count": 20,
   "id": "ee58c0f6",
   "metadata": {
    "slideshow": {
     "slide_type": "fragment"
    }
   },
   "outputs": [
    {
     "data": {
      "text/plain": [
       "'Red planet'"
      ]
     },
     "execution_count": 20,
     "metadata": {},
     "output_type": "execute_result"
    }
   ],
   "source": [
    "mars.name = \"Red planet\"\n",
    "mars.name"
   ]
  },
  {
   "cell_type": "code",
   "execution_count": 21,
   "id": "1d7dfc10",
   "metadata": {
    "slideshow": {
     "slide_type": "subslide"
    }
   },
   "outputs": [
    {
     "ename": "AttributeError",
     "evalue": "'Planet' object has no attribute 'mass'",
     "output_type": "error",
     "traceback": [
      "\u001b[0;31m---------------------------------------------------------------------------\u001b[0m",
      "\u001b[0;31mAttributeError\u001b[0m                            Traceback (most recent call last)",
      "Input \u001b[0;32mIn [21]\u001b[0m, in \u001b[0;36m<cell line: 1>\u001b[0;34m()\u001b[0m\n\u001b[0;32m----> 1\u001b[0m \u001b[43mmars\u001b[49m\u001b[38;5;241;43m.\u001b[39;49m\u001b[43mmass\u001b[49m\n",
      "\u001b[0;31mAttributeError\u001b[0m: 'Planet' object has no attribute 'mass'"
     ]
    }
   ],
   "source": [
    "mars.mass"
   ]
  },
  {
   "cell_type": "code",
   "execution_count": 22,
   "id": "e75a6ca7",
   "metadata": {
    "slideshow": {
     "slide_type": "fragment"
    }
   },
   "outputs": [
    {
     "ename": "AttributeError",
     "evalue": "'Planet' object has no attribute 'name'",
     "output_type": "error",
     "traceback": [
      "\u001b[0;31m---------------------------------------------------------------------------\u001b[0m",
      "\u001b[0;31mAttributeError\u001b[0m                            Traceback (most recent call last)",
      "Input \u001b[0;32mIn [22]\u001b[0m, in \u001b[0;36m<cell line: 2>\u001b[0;34m()\u001b[0m\n\u001b[1;32m      1\u001b[0m \u001b[38;5;28;01mdel\u001b[39;00m mars\u001b[38;5;241m.\u001b[39mname\n\u001b[0;32m----> 2\u001b[0m \u001b[43mmars\u001b[49m\u001b[38;5;241;43m.\u001b[39;49m\u001b[43mname\u001b[49m\n",
      "\u001b[0;31mAttributeError\u001b[0m: 'Planet' object has no attribute 'name'"
     ]
    }
   ],
   "source": [
    "del mars.name\n",
    "mars.name"
   ]
  },
  {
   "cell_type": "markdown",
   "id": "4051c352",
   "metadata": {
    "slideshow": {
     "slide_type": "slide"
    }
   },
   "source": [
    "__Атрибуты класса ч2__"
   ]
  },
  {
   "cell_type": "code",
   "execution_count": 23,
   "id": "77850594",
   "metadata": {
    "slideshow": {
     "slide_type": "fragment"
    }
   },
   "outputs": [],
   "source": [
    "class Planet:\n",
    "    \n",
    "    # Переменная относится к классу, а не экземпляру (атрибут класса)\n",
    "    count = 0\n",
    "\n",
    "    def __init__(self, name, population=None):\n",
    "        self.name = name\n",
    "        self.population = population or []\n",
    "        Planet.count += 1"
   ]
  },
  {
   "cell_type": "code",
   "execution_count": 24,
   "id": "8bc6e89c",
   "metadata": {
    "slideshow": {
     "slide_type": "fragment"
    }
   },
   "outputs": [
    {
     "name": "stdout",
     "output_type": "stream",
     "text": [
      "2\n"
     ]
    }
   ],
   "source": [
    "mars = Planet('Mars')\n",
    "earth = Planet('Earth')\n",
    "\n",
    "print(Planet.count)"
   ]
  },
  {
   "cell_type": "code",
   "execution_count": 25,
   "id": "a08ea3fb",
   "metadata": {
    "slideshow": {
     "slide_type": "subslide"
    }
   },
   "outputs": [
    {
     "data": {
      "text/plain": [
       "2"
      ]
     },
     "execution_count": 25,
     "metadata": {},
     "output_type": "execute_result"
    }
   ],
   "source": [
    "mars.count # проверяет объект, потом класс"
   ]
  },
  {
   "cell_type": "markdown",
   "id": "6d53da1e",
   "metadata": {
    "slideshow": {
     "slide_type": "subslide"
    }
   },
   "source": [
    "__В чем может быть проблема?__\n",
    "\n",
    "__Переменные класса__ разделяемы – доступ к ним могут получать все экземпляры этого класса. Переменная класса существует только одна, поэтому когда любой из объектов изменяет переменную класса, это изменение отразится и во всех остальных экземплярах того же класса.\n",
    "\n",
    "__Переменные объекта__ принадлежат каждому отдельному экземпляру класса. В этом случае у каждого объекта есть своя собственная копия поля, т.е. не разделяемая и никоим образом не связанная с другими такими же полями в других экземплярах."
   ]
  },
  {
   "cell_type": "code",
   "execution_count": 26,
   "id": "9057afdf",
   "metadata": {
    "slideshow": {
     "slide_type": "slide"
    }
   },
   "outputs": [],
   "source": [
    "class Human:\n",
    "    \n",
    "    # Вызывается при запуске сборщика мусора\n",
    "    def __del__(self):\n",
    "        print(\"Goodbye\")"
   ]
  },
  {
   "cell_type": "code",
   "execution_count": null,
   "id": "37c2e991",
   "metadata": {
    "slideshow": {
     "slide_type": "fragment"
    }
   },
   "outputs": [],
   "source": [
    "human = Human()\n",
    "\n",
    "# Но лучше метод __del__ не переопределять, а создавать свои методы\n",
    "del human"
   ]
  },
  {
   "cell_type": "markdown",
   "id": "3bbbc147",
   "metadata": {
    "slideshow": {
     "slide_type": "fragment"
    }
   },
   "source": [
    "Python удаляет объекты, на которые больше нет ссылок в программе, чтобы освободить место в памяти."
   ]
  },
  {
   "cell_type": "markdown",
   "id": "3c809d86",
   "metadata": {
    "slideshow": {
     "slide_type": "slide"
    }
   },
   "source": [
    "__Словарь экземпляра и класса__"
   ]
  },
  {
   "cell_type": "code",
   "execution_count": 27,
   "id": "4242121d",
   "metadata": {
    "slideshow": {
     "slide_type": "fragment"
    }
   },
   "outputs": [],
   "source": [
    "class Planet:\n",
    "    \"\"\" This class describes planets \"\"\"\n",
    "\n",
    "    count = 0\n",
    "\n",
    "    def __init__(self, name, population=None):\n",
    "        self.name = name\n",
    "        self.population = population or []"
   ]
  },
  {
   "cell_type": "code",
   "execution_count": 28,
   "id": "518817ba",
   "metadata": {
    "slideshow": {
     "slide_type": "subslide"
    }
   },
   "outputs": [
    {
     "data": {
      "text/plain": [
       "{'name': 'Earth', 'population': []}"
      ]
     },
     "execution_count": 28,
     "metadata": {},
     "output_type": "execute_result"
    }
   ],
   "source": [
    "planet = Planet('Earth')\n",
    "planet.__dict__"
   ]
  },
  {
   "cell_type": "code",
   "execution_count": 29,
   "id": "2184309f",
   "metadata": {
    "slideshow": {
     "slide_type": "slide"
    }
   },
   "outputs": [
    {
     "data": {
      "text/plain": [
       "{'name': 'Earth', 'population': [], 'mass': 6e+24}"
      ]
     },
     "execution_count": 29,
     "metadata": {},
     "output_type": "execute_result"
    }
   ],
   "source": [
    "planet.mass = 6e24\n",
    "planet.__dict__"
   ]
  },
  {
   "cell_type": "code",
   "execution_count": 30,
   "id": "895f2fb6",
   "metadata": {
    "slideshow": {
     "slide_type": "fragment"
    }
   },
   "outputs": [
    {
     "data": {
      "text/plain": [
       "mappingproxy({'__module__': '__main__',\n",
       "              '__doc__': ' This class describes planets ',\n",
       "              'count': 0,\n",
       "              '__init__': <function __main__.Planet.__init__(self, name, population=None)>,\n",
       "              '__dict__': <attribute '__dict__' of 'Planet' objects>,\n",
       "              '__weakref__': <attribute '__weakref__' of 'Planet' objects>})"
      ]
     },
     "execution_count": 30,
     "metadata": {},
     "output_type": "execute_result"
    }
   ],
   "source": [
    "Planet.__dict__"
   ]
  },
  {
   "cell_type": "code",
   "execution_count": 31,
   "id": "f877592b",
   "metadata": {
    "slideshow": {
     "slide_type": "slide"
    }
   },
   "outputs": [
    {
     "data": {
      "text/plain": [
       "' This class describes planets '"
      ]
     },
     "execution_count": 31,
     "metadata": {},
     "output_type": "execute_result"
    }
   ],
   "source": [
    "Planet.__doc__"
   ]
  },
  {
   "cell_type": "code",
   "execution_count": 32,
   "id": "6b44c442",
   "metadata": {
    "slideshow": {
     "slide_type": "fragment"
    }
   },
   "outputs": [
    {
     "data": {
      "text/plain": [
       "' This class describes planets '"
      ]
     },
     "execution_count": 32,
     "metadata": {},
     "output_type": "execute_result"
    }
   ],
   "source": [
    "planet.__doc__"
   ]
  },
  {
   "cell_type": "code",
   "execution_count": 33,
   "id": "e2e4d3e8",
   "metadata": {
    "slideshow": {
     "slide_type": "slide"
    }
   },
   "outputs": [
    {
     "name": "stdout",
     "output_type": "stream",
     "text": [
      "['__class__', '__delattr__', '__dict__', '__dir__', '__doc__', '__eq__', '__format__', '__ge__', '__getattribute__', '__gt__', '__hash__', '__init__', '__init_subclass__', '__le__', '__lt__', '__module__', '__ne__', '__new__', '__reduce__', '__reduce_ex__', '__repr__', '__setattr__', '__sizeof__', '__str__', '__subclasshook__', '__weakref__', 'count', 'mass', 'name', 'population']\n"
     ]
    }
   ],
   "source": [
    "print(dir(planet))"
   ]
  },
  {
   "cell_type": "code",
   "execution_count": 34,
   "id": "9af42143",
   "metadata": {
    "slideshow": {
     "slide_type": "fragment"
    }
   },
   "outputs": [
    {
     "data": {
      "text/plain": [
       "__main__.Planet"
      ]
     },
     "execution_count": 34,
     "metadata": {},
     "output_type": "execute_result"
    }
   ],
   "source": [
    "planet.__class__"
   ]
  },
  {
   "cell_type": "markdown",
   "id": "a131bf24",
   "metadata": {
    "slideshow": {
     "slide_type": "slide"
    }
   },
   "source": [
    "__Методы экземпляра__"
   ]
  },
  {
   "cell_type": "code",
   "execution_count": 39,
   "id": "5994a764",
   "metadata": {
    "slideshow": {
     "slide_type": "fragment"
    }
   },
   "outputs": [],
   "source": [
    "class Human:\n",
    "    \n",
    "    def __init__(self, name, age=0):\n",
    "        self.name = name\n",
    "        self.age = age\n",
    "\n",
    "class Planet:\n",
    "    \n",
    "    def __init__(self, name, population=None):\n",
    "        self.name = name\n",
    "        self.population = population or []\n",
    "    \n",
    "    def add_human(self, human):\n",
    "        print(f\"Welcome to {self.name}, {human.name}!\")\n",
    "        self.population.append(human)"
   ]
  },
  {
   "cell_type": "code",
   "execution_count": 40,
   "id": "9154359a",
   "metadata": {
    "slideshow": {
     "slide_type": "subslide"
    }
   },
   "outputs": [
    {
     "name": "stdout",
     "output_type": "stream",
     "text": [
      "Welcome to Mars, Vasya!\n"
     ]
    }
   ],
   "source": [
    "mars = Planet('Mars')\n",
    "vasya = Human('Vasya')\n",
    "\n",
    "mars.add_human(vasya)"
   ]
  },
  {
   "cell_type": "code",
   "execution_count": 41,
   "id": "e3ecae0e",
   "metadata": {
    "slideshow": {
     "slide_type": "fragment"
    }
   },
   "outputs": [
    {
     "name": "stdout",
     "output_type": "stream",
     "text": [
      "[<__main__.Human object at 0x7f87cc3e7730>]\n"
     ]
    }
   ],
   "source": [
    "print(mars.population)"
   ]
  },
  {
   "cell_type": "code",
   "execution_count": 42,
   "id": "cf41e758",
   "metadata": {
    "slideshow": {
     "slide_type": "slide"
    }
   },
   "outputs": [],
   "source": [
    "class Human:\n",
    "    \n",
    "    def __init__(self, name, age=0):\n",
    "        self.name = name\n",
    "        self.age = age\n",
    "    \n",
    "    def _say(self, text):\n",
    "        print(text)\n",
    "    \n",
    "    def say_name(self):\n",
    "        self._say(f\"Hello, I am {self.name}\")\n",
    "    \n",
    "    def say_age(self):\n",
    "        self._say(f\"I am {self.age} years old\")"
   ]
  },
  {
   "cell_type": "markdown",
   "id": "bef83074",
   "metadata": {
    "slideshow": {
     "slide_type": "-"
    }
   },
   "source": [
    "[Почему в названиях функций есть нижние подчеркивания?](https://pythonru.com/uroki/privatnye-peremennye-dlja-nachinajushhih)"
   ]
  },
  {
   "cell_type": "code",
   "execution_count": 43,
   "id": "338b485f",
   "metadata": {
    "slideshow": {
     "slide_type": "slide"
    }
   },
   "outputs": [
    {
     "name": "stdout",
     "output_type": "stream",
     "text": [
      "Hello, I am Bob\n",
      "I am 29 years old\n"
     ]
    }
   ],
   "source": [
    "bob = Human('Bob', age=29)\n",
    "\n",
    "bob.say_name()\n",
    "bob.say_age()"
   ]
  },
  {
   "cell_type": "code",
   "execution_count": 45,
   "id": "2cc6afa6",
   "metadata": {
    "slideshow": {
     "slide_type": "slide"
    }
   },
   "outputs": [],
   "source": [
    "class Event:\n",
    "    \n",
    "    def __init__(self, description, event_date):\n",
    "        self.description = description\n",
    "        self.date = event_date\n",
    "    \n",
    "    def __str__(self):\n",
    "        return f\"Event {self.description} at {self.date}\""
   ]
  },
  {
   "cell_type": "code",
   "execution_count": 46,
   "id": "7c5f90f1",
   "metadata": {
    "slideshow": {
     "slide_type": "subslide"
    }
   },
   "outputs": [
    {
     "name": "stdout",
     "output_type": "stream",
     "text": [
      "Event Рассказать что такое @classmethod at 2022-11-04\n"
     ]
    }
   ],
   "source": [
    "from datetime import date\n",
    "\n",
    "event_description = \"Рассказать что такое @classmethod\"\n",
    "event_date = date.today()\n",
    "\n",
    "event = Event(event_description, event_date)\n",
    "print(event)"
   ]
  },
  {
   "cell_type": "markdown",
   "id": "5e758932",
   "metadata": {
    "slideshow": {
     "slide_type": "subslide"
    }
   },
   "source": [
    "__Методы класса (classmethod) и статические методы (staticmethod)__\n",
    "\n",
    "Декоратор (`@`) — это функция, которая позволяет обернуть другую функцию для расширения её функциональности без непосредственного изменения её кода.\n",
    "\n",
    "То есть, \n",
    "```python\n",
    "@my_decorator\n",
    "def my_function():\n",
    "    pass\n",
    "```\n",
    "Это то же самое, что\n",
    "```python\n",
    "def my_function():\n",
    "    pass\n",
    "my_function = my_decorator(my_function)\n",
    "```\n",
    "\n",
    "`@classmethod` — это обычный метод класса, имеющий доступ ко всем атрибутам класса, через который он был вызван. Следовательно, classmethod — это метод, который привязан к классу, а не к экземпляру класса.\n",
    "\n",
    "`@staticmethod` — это вроде обычной функции, определенной внутри класса, которая не имеет доступа к экземпляру, поэтому ее можно вызывать без создания экземпляра класса."
   ]
  },
  {
   "cell_type": "code",
   "execution_count": 48,
   "id": "679eb71e",
   "metadata": {
    "slideshow": {
     "slide_type": "slide"
    }
   },
   "outputs": [],
   "source": [
    "def extract_description(user_string):\n",
    "    return \"Тестовый запуск Hyperloop\"\n",
    "\n",
    "def extract_date(user_string):\n",
    "    return date(2021, 1, 3)\n",
    "\n",
    "\n",
    "class Event:\n",
    "    \n",
    "    def __init__(self, description, event_date):\n",
    "        self.description = description\n",
    "        self.date = event_date\n",
    "    \n",
    "    def __str__(self):\n",
    "        return f\"Event {self.description} at {self.date}\"\n",
    "    \n",
    "    # Альтернативный конструктор класса с извлечением\n",
    "    @classmethod\n",
    "    def from_string(cls, user_input):\n",
    "        description = extract_description(user_input)\n",
    "        date = extract_date(user_input)\n",
    "        return cls(description, date)"
   ]
  },
  {
   "cell_type": "code",
   "execution_count": 49,
   "id": "a91c3825",
   "metadata": {
    "slideshow": {
     "slide_type": "subslide"
    }
   },
   "outputs": [],
   "source": [
    "event = Event.from_string(\"Добавить в календарь тестовый запуск Hyperloop третьего марта 2021 года\")"
   ]
  },
  {
   "cell_type": "code",
   "execution_count": 50,
   "id": "742f5942",
   "metadata": {
    "slideshow": {
     "slide_type": "fragment"
    }
   },
   "outputs": [
    {
     "name": "stdout",
     "output_type": "stream",
     "text": [
      "Event Тестовый запуск Hyperloop at 2021-01-03\n"
     ]
    }
   ],
   "source": [
    "print(event)"
   ]
  },
  {
   "cell_type": "code",
   "execution_count": 51,
   "id": "d4589d41",
   "metadata": {
    "slideshow": {
     "slide_type": "fragment"
    }
   },
   "outputs": [
    {
     "data": {
      "text/plain": [
       "{'1': None, '2': None, '3': None, '4': None, '5': None}"
      ]
     },
     "execution_count": 51,
     "metadata": {},
     "output_type": "execute_result"
    }
   ],
   "source": [
    "dict.fromkeys('12345')"
   ]
  },
  {
   "cell_type": "code",
   "execution_count": 52,
   "id": "ee8807dc",
   "metadata": {
    "slideshow": {
     "slide_type": "slide"
    }
   },
   "outputs": [],
   "source": [
    "class Human:\n",
    "    \n",
    "    def __init__(self, name, age=0):\n",
    "        self.name = name\n",
    "        self.age = age\n",
    "    \n",
    "    @staticmethod\n",
    "    def is_age_valid(age):\n",
    "        return 0 < age < 150"
   ]
  },
  {
   "cell_type": "code",
   "execution_count": 53,
   "id": "e9f03c8e",
   "metadata": {
    "slideshow": {
     "slide_type": "fragment"
    }
   },
   "outputs": [
    {
     "data": {
      "text/plain": [
       "True"
      ]
     },
     "execution_count": 53,
     "metadata": {},
     "output_type": "execute_result"
    }
   ],
   "source": [
    "Human.is_age_valid(35)"
   ]
  },
  {
   "cell_type": "code",
   "execution_count": 54,
   "id": "eb8b0239",
   "metadata": {
    "slideshow": {
     "slide_type": "fragment"
    }
   },
   "outputs": [
    {
     "data": {
      "text/plain": [
       "False"
      ]
     },
     "execution_count": 54,
     "metadata": {},
     "output_type": "execute_result"
    }
   ],
   "source": [
    "Human('Oldboy').is_age_valid(300)"
   ]
  }
 ],
 "metadata": {
  "celltoolbar": "Slideshow",
  "kernelspec": {
   "display_name": "Python 3 (ipykernel)",
   "language": "python",
   "name": "python3"
  },
  "language_info": {
   "codemirror_mode": {
    "name": "ipython",
    "version": 3
   },
   "file_extension": ".py",
   "mimetype": "text/x-python",
   "name": "python",
   "nbconvert_exporter": "python",
   "pygments_lexer": "ipython3",
   "version": "3.8.10"
  }
 },
 "nbformat": 4,
 "nbformat_minor": 5
}
