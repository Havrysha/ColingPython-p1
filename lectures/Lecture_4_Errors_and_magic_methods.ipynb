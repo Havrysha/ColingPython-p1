{
 "cells": [
  {
   "cell_type": "markdown",
   "id": "1f9c5c80",
   "metadata": {},
   "source": [
    "### Генерация исключений стандартной библиотеки Python"
   ]
  },
  {
   "cell_type": "code",
   "execution_count": 1,
   "id": "adc5ab65",
   "metadata": {},
   "outputs": [
    {
     "ename": "ZeroDivisionError",
     "evalue": "division by zero",
     "output_type": "error",
     "traceback": [
      "\u001b[1;31m---------------------------------------------------------------------------\u001b[0m",
      "\u001b[1;31mZeroDivisionError\u001b[0m                         Traceback (most recent call last)",
      "Cell \u001b[1;32mIn [1], line 1\u001b[0m\n\u001b[1;32m----> 1\u001b[0m \u001b[38;5;28mprint\u001b[39m(\u001b[38;5;241;43m1\u001b[39;49m\u001b[43m \u001b[49m\u001b[38;5;241;43m/\u001b[39;49m\u001b[43m \u001b[49m\u001b[38;5;241;43m0\u001b[39;49m)\n",
      "\u001b[1;31mZeroDivisionError\u001b[0m: division by zero"
     ]
    }
   ],
   "source": [
    "print(1 / 0)"
   ]
  },
  {
   "cell_type": "code",
   "execution_count": 2,
   "id": "cbe81f1c",
   "metadata": {},
   "outputs": [
    {
     "ename": "FileNotFoundError",
     "evalue": "[Errno 2] No such file or directory: 'non_existing_file.txt'",
     "output_type": "error",
     "traceback": [
      "\u001b[1;31m---------------------------------------------------------------------------\u001b[0m",
      "\u001b[1;31mFileNotFoundError\u001b[0m                         Traceback (most recent call last)",
      "Cell \u001b[1;32mIn [2], line 1\u001b[0m\n\u001b[1;32m----> 1\u001b[0m \u001b[38;5;28;43mopen\u001b[39;49m\u001b[43m(\u001b[49m\u001b[38;5;124;43m'\u001b[39;49m\u001b[38;5;124;43mnon_existing_file.txt\u001b[39;49m\u001b[38;5;124;43m'\u001b[39;49m\u001b[43m)\u001b[49m\n",
      "File \u001b[1;32mc:\\users\\user\\appdata\\local\\programs\\python\\python39\\lib\\site-packages\\IPython\\core\\interactiveshell.py:282\u001b[0m, in \u001b[0;36m_modified_open\u001b[1;34m(file, *args, **kwargs)\u001b[0m\n\u001b[0;32m    275\u001b[0m \u001b[38;5;28;01mif\u001b[39;00m file \u001b[38;5;129;01min\u001b[39;00m {\u001b[38;5;241m0\u001b[39m, \u001b[38;5;241m1\u001b[39m, \u001b[38;5;241m2\u001b[39m}:\n\u001b[0;32m    276\u001b[0m     \u001b[38;5;28;01mraise\u001b[39;00m \u001b[38;5;167;01mValueError\u001b[39;00m(\n\u001b[0;32m    277\u001b[0m         \u001b[38;5;124mf\u001b[39m\u001b[38;5;124m\"\u001b[39m\u001b[38;5;124mIPython won\u001b[39m\u001b[38;5;124m'\u001b[39m\u001b[38;5;124mt let you open fd=\u001b[39m\u001b[38;5;132;01m{\u001b[39;00mfile\u001b[38;5;132;01m}\u001b[39;00m\u001b[38;5;124m by default \u001b[39m\u001b[38;5;124m\"\u001b[39m\n\u001b[0;32m    278\u001b[0m         \u001b[38;5;124m\"\u001b[39m\u001b[38;5;124mas it is likely to crash IPython. If you know what you are doing, \u001b[39m\u001b[38;5;124m\"\u001b[39m\n\u001b[0;32m    279\u001b[0m         \u001b[38;5;124m\"\u001b[39m\u001b[38;5;124myou can use builtins\u001b[39m\u001b[38;5;124m'\u001b[39m\u001b[38;5;124m open.\u001b[39m\u001b[38;5;124m\"\u001b[39m\n\u001b[0;32m    280\u001b[0m     )\n\u001b[1;32m--> 282\u001b[0m \u001b[38;5;28;01mreturn\u001b[39;00m io_open(file, \u001b[38;5;241m*\u001b[39margs, \u001b[38;5;241m*\u001b[39m\u001b[38;5;241m*\u001b[39mkwargs)\n",
      "\u001b[1;31mFileNotFoundError\u001b[0m: [Errno 2] No such file or directory: 'non_existing_file.txt'"
     ]
    }
   ],
   "source": [
    "open('non_existing_file.txt')"
   ]
  },
  {
   "cell_type": "markdown",
   "id": "b9f0edb7",
   "metadata": {},
   "source": [
    "__Иерархия исключений__\n",
    "\n",
    "```\n",
    "BaseException\n",
    " +-- SystemExit\n",
    " +-- KeyboardInterrupt\n",
    " +-- GeneratorExit\n",
    " +-- Exception\n",
    "      +-- StopIteration\n",
    "      +-- StopAsyncIteration\n",
    "      +-- AssertionError\n",
    "      +-- AttributeError\n",
    "      +-- ImportError\n",
    "      +-- LookupError\n",
    "      |    +-- IndexError\n",
    "      |    +-- KeyError\n",
    "      +-- MemoryError\n",
    "      +-- OSError\n",
    "      |    +-- ConnectionError\n",
    "      |    +-- FileNotFoundError\n",
    "      |    +-- PermissionError\n",
    "      +-- ReferenceError\n",
    "      +-- RuntimeError\n",
    "      |    +-- NotImplementedError\n",
    "      |    +-- RecursionError\n",
    "      +-- SyntaxError\n",
    "      +-- TypeError\n",
    "      +-- ValueError\n",
    "```"
   ]
  },
  {
   "cell_type": "markdown",
   "id": "a8774b73",
   "metadata": {},
   "source": [
    "__Обработка исключений__"
   ]
  },
  {
   "cell_type": "code",
   "execution_count": 3,
   "id": "9e9196b9",
   "metadata": {},
   "outputs": [
    {
     "name": "stdout",
     "output_type": "stream",
     "text": [
      "Поймали ошибку\n"
     ]
    }
   ],
   "source": [
    "try:\n",
    "    1 / 0\n",
    "except:\n",
    "    print(\"Поймали ошибку\")"
   ]
  },
  {
   "cell_type": "code",
   "execution_count": 4,
   "id": "01e2706d",
   "metadata": {},
   "outputs": [
    {
     "name": "stdout",
     "output_type": "stream",
     "text": [
      "Поймали ошибку\n"
     ]
    }
   ],
   "source": [
    "try:\n",
    "    1 / 0\n",
    "except ZeroDivisionError:\n",
    "    print(\"Поймали ошибку\")"
   ]
  },
  {
   "cell_type": "code",
   "execution_count": 5,
   "id": "cdd09be7",
   "metadata": {},
   "outputs": [
    {
     "ename": "ZeroDivisionError",
     "evalue": "division by zero",
     "output_type": "error",
     "traceback": [
      "\u001b[1;31m---------------------------------------------------------------------------\u001b[0m",
      "\u001b[1;31mZeroDivisionError\u001b[0m                         Traceback (most recent call last)",
      "Cell \u001b[1;32mIn [5], line 2\u001b[0m\n\u001b[0;32m      1\u001b[0m \u001b[38;5;28;01mtry\u001b[39;00m:\n\u001b[1;32m----> 2\u001b[0m     \u001b[38;5;241;43m1\u001b[39;49m\u001b[43m \u001b[49m\u001b[38;5;241;43m/\u001b[39;49m\u001b[43m \u001b[49m\u001b[38;5;241;43m0\u001b[39;49m\n\u001b[0;32m      3\u001b[0m \u001b[38;5;28;01mexcept\u001b[39;00m \u001b[38;5;167;01mValueError\u001b[39;00m:\n\u001b[0;32m      4\u001b[0m     \u001b[38;5;28mprint\u001b[39m(\u001b[38;5;124m\"\u001b[39m\u001b[38;5;124mПоймали ошибку\u001b[39m\u001b[38;5;124m\"\u001b[39m)\n",
      "\u001b[1;31mZeroDivisionError\u001b[0m: division by zero"
     ]
    }
   ],
   "source": [
    "try:\n",
    "    1 / 0\n",
    "except ValueError:\n",
    "    print(\"Поймали ошибку\")"
   ]
  },
  {
   "cell_type": "code",
   "execution_count": null,
   "id": "720a74a2",
   "metadata": {},
   "outputs": [],
   "source": [
    "# Так как ловим любую ошибку и продолжаем цикл, он будет бесконечным, и ячейку можно будет остановить, только перезапустив ядро\n",
    "\n",
    "while True:\n",
    "    try:\n",
    "        raw = input(\"Give me a number: \")\n",
    "        number = int(raw)\n",
    "    except:\n",
    "        print(\"That's not a number! \")"
   ]
  },
  {
   "cell_type": "code",
   "execution_count": 1,
   "id": "7952050a",
   "metadata": {},
   "outputs": [
    {
     "name": "stdout",
     "output_type": "stream",
     "text": [
      "Give me a number: 1\n"
     ]
    },
    {
     "ename": "KeyboardInterrupt",
     "evalue": "Interrupted by user",
     "output_type": "error",
     "traceback": [
      "\u001b[1;31m---------------------------------------------------------------------------\u001b[0m",
      "\u001b[1;31mKeyboardInterrupt\u001b[0m                         Traceback (most recent call last)",
      "Cell \u001b[1;32mIn [1], line 5\u001b[0m\n\u001b[0;32m      3\u001b[0m \u001b[38;5;28;01mwhile\u001b[39;00m \u001b[38;5;28;01mTrue\u001b[39;00m:\n\u001b[0;32m      4\u001b[0m     \u001b[38;5;28;01mtry\u001b[39;00m:\n\u001b[1;32m----> 5\u001b[0m         raw \u001b[38;5;241m=\u001b[39m \u001b[38;5;28;43minput\u001b[39;49m\u001b[43m(\u001b[49m\u001b[38;5;124;43m\"\u001b[39;49m\u001b[38;5;124;43mGive me a number: \u001b[39;49m\u001b[38;5;124;43m\"\u001b[39;49m\u001b[43m)\u001b[49m\n\u001b[0;32m      6\u001b[0m         number \u001b[38;5;241m=\u001b[39m \u001b[38;5;28mint\u001b[39m(raw)\n\u001b[0;32m      7\u001b[0m     \u001b[38;5;28;01mexcept\u001b[39;00m \u001b[38;5;167;01mValueError\u001b[39;00m:\n",
      "File \u001b[1;32mc:\\users\\user\\appdata\\local\\programs\\python\\python39\\lib\\site-packages\\ipykernel\\kernelbase.py:1177\u001b[0m, in \u001b[0;36mKernel.raw_input\u001b[1;34m(self, prompt)\u001b[0m\n\u001b[0;32m   1173\u001b[0m \u001b[38;5;28;01mif\u001b[39;00m \u001b[38;5;129;01mnot\u001b[39;00m \u001b[38;5;28mself\u001b[39m\u001b[38;5;241m.\u001b[39m_allow_stdin:\n\u001b[0;32m   1174\u001b[0m     \u001b[38;5;28;01mraise\u001b[39;00m StdinNotImplementedError(\n\u001b[0;32m   1175\u001b[0m         \u001b[38;5;124m\"\u001b[39m\u001b[38;5;124mraw_input was called, but this frontend does not support input requests.\u001b[39m\u001b[38;5;124m\"\u001b[39m\n\u001b[0;32m   1176\u001b[0m     )\n\u001b[1;32m-> 1177\u001b[0m \u001b[38;5;28;01mreturn\u001b[39;00m \u001b[38;5;28;43mself\u001b[39;49m\u001b[38;5;241;43m.\u001b[39;49m\u001b[43m_input_request\u001b[49m\u001b[43m(\u001b[49m\n\u001b[0;32m   1178\u001b[0m \u001b[43m    \u001b[49m\u001b[38;5;28;43mstr\u001b[39;49m\u001b[43m(\u001b[49m\u001b[43mprompt\u001b[49m\u001b[43m)\u001b[49m\u001b[43m,\u001b[49m\n\u001b[0;32m   1179\u001b[0m \u001b[43m    \u001b[49m\u001b[38;5;28;43mself\u001b[39;49m\u001b[38;5;241;43m.\u001b[39;49m\u001b[43m_parent_ident\u001b[49m\u001b[43m[\u001b[49m\u001b[38;5;124;43m\"\u001b[39;49m\u001b[38;5;124;43mshell\u001b[39;49m\u001b[38;5;124;43m\"\u001b[39;49m\u001b[43m]\u001b[49m\u001b[43m,\u001b[49m\n\u001b[0;32m   1180\u001b[0m \u001b[43m    \u001b[49m\u001b[38;5;28;43mself\u001b[39;49m\u001b[38;5;241;43m.\u001b[39;49m\u001b[43mget_parent\u001b[49m\u001b[43m(\u001b[49m\u001b[38;5;124;43m\"\u001b[39;49m\u001b[38;5;124;43mshell\u001b[39;49m\u001b[38;5;124;43m\"\u001b[39;49m\u001b[43m)\u001b[49m\u001b[43m,\u001b[49m\n\u001b[0;32m   1181\u001b[0m \u001b[43m    \u001b[49m\u001b[43mpassword\u001b[49m\u001b[38;5;241;43m=\u001b[39;49m\u001b[38;5;28;43;01mFalse\u001b[39;49;00m\u001b[43m,\u001b[49m\n\u001b[0;32m   1182\u001b[0m \u001b[43m\u001b[49m\u001b[43m)\u001b[49m\n",
      "File \u001b[1;32mc:\\users\\user\\appdata\\local\\programs\\python\\python39\\lib\\site-packages\\ipykernel\\kernelbase.py:1219\u001b[0m, in \u001b[0;36mKernel._input_request\u001b[1;34m(self, prompt, ident, parent, password)\u001b[0m\n\u001b[0;32m   1216\u001b[0m             \u001b[38;5;28;01mbreak\u001b[39;00m\n\u001b[0;32m   1217\u001b[0m \u001b[38;5;28;01mexcept\u001b[39;00m \u001b[38;5;167;01mKeyboardInterrupt\u001b[39;00m:\n\u001b[0;32m   1218\u001b[0m     \u001b[38;5;66;03m# re-raise KeyboardInterrupt, to truncate traceback\u001b[39;00m\n\u001b[1;32m-> 1219\u001b[0m     \u001b[38;5;28;01mraise\u001b[39;00m \u001b[38;5;167;01mKeyboardInterrupt\u001b[39;00m(\u001b[38;5;124m\"\u001b[39m\u001b[38;5;124mInterrupted by user\u001b[39m\u001b[38;5;124m\"\u001b[39m) \u001b[38;5;28;01mfrom\u001b[39;00m \u001b[38;5;28mNone\u001b[39m\n\u001b[0;32m   1220\u001b[0m \u001b[38;5;28;01mexcept\u001b[39;00m \u001b[38;5;167;01mException\u001b[39;00m:\n\u001b[0;32m   1221\u001b[0m     \u001b[38;5;28mself\u001b[39m\u001b[38;5;241m.\u001b[39mlog\u001b[38;5;241m.\u001b[39mwarning(\u001b[38;5;124m\"\u001b[39m\u001b[38;5;124mInvalid Message:\u001b[39m\u001b[38;5;124m\"\u001b[39m, exc_info\u001b[38;5;241m=\u001b[39m\u001b[38;5;28;01mTrue\u001b[39;00m)\n",
      "\u001b[1;31mKeyboardInterrupt\u001b[0m: Interrupted by user"
     ]
    }
   ],
   "source": [
    "# Эту ячейку уже можно остановить, вызвав KeyboardInterrupt, она не будет обработана\n",
    "\n",
    "while True:\n",
    "    try:\n",
    "        raw = input(\"Give me a number: \")\n",
    "        number = int(raw)\n",
    "    except ValueError:\n",
    "        print(\"That's not a number! \")"
   ]
  },
  {
   "cell_type": "code",
   "execution_count": 3,
   "id": "a2664785",
   "metadata": {},
   "outputs": [
    {
     "name": "stdout",
     "output_type": "stream",
     "text": [
      "Give me a number 1\n",
      "Exit\n"
     ]
    }
   ],
   "source": [
    "# Тепрерь обработаем KeyboardInterrupt и выведем сообщение о выходе из цикла\n",
    "\n",
    "while True:\n",
    "    try:\n",
    "        raw = input(\"Give me a number \")\n",
    "        number = int(raw)\n",
    "    except ValueError:\n",
    "        print(\"That's not a number! \")\n",
    "    except KeyboardInterrupt:\n",
    "        print(\"Exit\")\n",
    "        break"
   ]
  },
  {
   "cell_type": "code",
   "execution_count": 4,
   "id": "d9bc03eb",
   "metadata": {},
   "outputs": [
    {
     "name": "stdout",
     "output_type": "stream",
     "text": [
      "Give me a number: 1\n",
      "Give me a number: \n",
      "Understood, goodbye!\n"
     ]
    }
   ],
   "source": [
    "# Также можем обработать несколько исключений за раз\n",
    "\n",
    "while True:\n",
    "    try:\n",
    "        raw = input(\"Give me a number: \")\n",
    "        number = int(raw)\n",
    "    except (ValueError, KeyboardInterrupt):\n",
    "        print(\"Understood, goodbye!\")\n",
    "        break"
   ]
  },
  {
   "cell_type": "markdown",
   "id": "12a2996d",
   "metadata": {},
   "source": [
    "__Генерация собственных исключений и передача аргументов__"
   ]
  },
  {
   "cell_type": "code",
   "execution_count": 5,
   "id": "fb8fc448",
   "metadata": {},
   "outputs": [
    {
     "name": "stdout",
     "output_type": "stream",
     "text": [
      "No file /file/not/found\n"
     ]
    }
   ],
   "source": [
    "import os.path\n",
    "\n",
    "filename = \"/file/not/found\"\n",
    "\n",
    "try:\n",
    "    if not os.path.exists(filename):\n",
    "        raise ValueError(\"No file\", filename)\n",
    "except ValueError as err:\n",
    "    message, file = err.args[0], err.args[1]\n",
    "    print(message, file)"
   ]
  },
  {
   "cell_type": "code",
   "execution_count": 6,
   "id": "30d5b877",
   "metadata": {},
   "outputs": [
    {
     "ename": "ValueError",
     "evalue": "Lets see the trace",
     "output_type": "error",
     "traceback": [
      "\u001b[1;31m---------------------------------------------------------------------------\u001b[0m",
      "\u001b[1;31mValueError\u001b[0m                                Traceback (most recent call last)",
      "Cell \u001b[1;32mIn [6], line 10\u001b[0m\n\u001b[0;32m      7\u001b[0m \u001b[38;5;28;01mdef\u001b[39;00m \u001b[38;5;21merror\u001b[39m():\n\u001b[0;32m      8\u001b[0m     \u001b[38;5;28;01mraise\u001b[39;00m \u001b[38;5;167;01mValueError\u001b[39;00m(\u001b[38;5;124m\"\u001b[39m\u001b[38;5;124mLets see the trace\u001b[39m\u001b[38;5;124m\"\u001b[39m)\n\u001b[1;32m---> 10\u001b[0m \u001b[43mfoo\u001b[49m\u001b[43m(\u001b[49m\u001b[43m)\u001b[49m\n",
      "Cell \u001b[1;32mIn [6], line 2\u001b[0m, in \u001b[0;36mfoo\u001b[1;34m()\u001b[0m\n\u001b[0;32m      1\u001b[0m \u001b[38;5;28;01mdef\u001b[39;00m \u001b[38;5;21mfoo\u001b[39m():\n\u001b[1;32m----> 2\u001b[0m     \u001b[43mbar\u001b[49m\u001b[43m(\u001b[49m\u001b[43m)\u001b[49m\n",
      "Cell \u001b[1;32mIn [6], line 5\u001b[0m, in \u001b[0;36mbar\u001b[1;34m()\u001b[0m\n\u001b[0;32m      4\u001b[0m \u001b[38;5;28;01mdef\u001b[39;00m \u001b[38;5;21mbar\u001b[39m():\n\u001b[1;32m----> 5\u001b[0m     \u001b[43merror\u001b[49m\u001b[43m(\u001b[49m\u001b[43m)\u001b[49m\n",
      "Cell \u001b[1;32mIn [6], line 8\u001b[0m, in \u001b[0;36merror\u001b[1;34m()\u001b[0m\n\u001b[0;32m      7\u001b[0m \u001b[38;5;28;01mdef\u001b[39;00m \u001b[38;5;21merror\u001b[39m():\n\u001b[1;32m----> 8\u001b[0m     \u001b[38;5;28;01mraise\u001b[39;00m \u001b[38;5;167;01mValueError\u001b[39;00m(\u001b[38;5;124m\"\u001b[39m\u001b[38;5;124mLets see the trace\u001b[39m\u001b[38;5;124m\"\u001b[39m)\n",
      "\u001b[1;31mValueError\u001b[0m: Lets see the trace"
     ]
    }
   ],
   "source": [
    "def foo():\n",
    "    bar()\n",
    "\n",
    "def bar():\n",
    "    error()\n",
    "\n",
    "def error():\n",
    "    raise ValueError(\"Lets see the trace\")\n",
    "\n",
    "foo()"
   ]
  },
  {
   "cell_type": "raw",
   "id": "fbb82aef",
   "metadata": {},
   "source": [
    "Причину ошибки можно понять по Traceback-у: каждое исключение содержит текст ошибки и информацию о месте появления ошибки\n",
    "Читать трэйс нужно снизу вверх "
   ]
  },
  {
   "cell_type": "code",
   "execution_count": 7,
   "id": "6474c121",
   "metadata": {},
   "outputs": [
    {
     "ename": "AssertionError",
     "evalue": "",
     "output_type": "error",
     "traceback": [
      "\u001b[1;31m---------------------------------------------------------------------------\u001b[0m",
      "\u001b[1;31mAssertionError\u001b[0m                            Traceback (most recent call last)",
      "Cell \u001b[1;32mIn [7], line 3\u001b[0m\n\u001b[0;32m      1\u001b[0m \u001b[38;5;66;03m# Вызов ошибки при проверке условия\u001b[39;00m\n\u001b[1;32m----> 3\u001b[0m \u001b[38;5;28;01massert\u001b[39;00m \u001b[38;5;241m1\u001b[39m \u001b[38;5;241m+\u001b[39m \u001b[38;5;241m1\u001b[39m \u001b[38;5;241m==\u001b[39m \u001b[38;5;241m3\u001b[39m\n\u001b[0;32m      4\u001b[0m \u001b[38;5;28mprint\u001b[39m(\u001b[38;5;124m\"\u001b[39m\u001b[38;5;124mSuccess?\u001b[39m\u001b[38;5;124m\"\u001b[39m)\n",
      "\u001b[1;31mAssertionError\u001b[0m: "
     ]
    }
   ],
   "source": [
    "# Вызов ошибки при проверке условия\n",
    "\n",
    "assert 1 + 1 == 3\n",
    "print(\"Success?\")"
   ]
  },
  {
   "cell_type": "code",
   "execution_count": 8,
   "id": "434c39b5",
   "metadata": {},
   "outputs": [
    {
     "name": "stdout",
     "output_type": "stream",
     "text": [
      "Success?\n"
     ]
    }
   ],
   "source": [
    "assert 1 + 1 == 2\n",
    "print(\"Success?\")"
   ]
  },
  {
   "cell_type": "code",
   "execution_count": 9,
   "id": "34b88500",
   "metadata": {},
   "outputs": [],
   "source": [
    "# Исключения для разработчиков от разработчиков\n",
    "\n",
    "def do_some_search(number):\n",
    "    assert isinstance(number, int), 'Number should be int'\n",
    "    print('Doing search work...')"
   ]
  },
  {
   "cell_type": "code",
   "execution_count": 10,
   "id": "a84b80ed",
   "metadata": {},
   "outputs": [
    {
     "ename": "AssertionError",
     "evalue": "Number should be int",
     "output_type": "error",
     "traceback": [
      "\u001b[1;31m---------------------------------------------------------------------------\u001b[0m",
      "\u001b[1;31mAssertionError\u001b[0m                            Traceback (most recent call last)",
      "Cell \u001b[1;32mIn [10], line 1\u001b[0m\n\u001b[1;32m----> 1\u001b[0m \u001b[43mdo_some_search\u001b[49m\u001b[43m(\u001b[49m\u001b[38;5;124;43m'\u001b[39;49m\u001b[38;5;124;43ma\u001b[39;49m\u001b[38;5;124;43m'\u001b[39;49m\u001b[43m)\u001b[49m\n",
      "Cell \u001b[1;32mIn [9], line 5\u001b[0m, in \u001b[0;36mdo_some_search\u001b[1;34m(number)\u001b[0m\n\u001b[0;32m      4\u001b[0m \u001b[38;5;28;01mdef\u001b[39;00m \u001b[38;5;21mdo_some_search\u001b[39m(number):\n\u001b[1;32m----> 5\u001b[0m     \u001b[38;5;28;01massert\u001b[39;00m \u001b[38;5;28misinstance\u001b[39m(number, \u001b[38;5;28mint\u001b[39m), \u001b[38;5;124m'\u001b[39m\u001b[38;5;124mNumber should be int\u001b[39m\u001b[38;5;124m'\u001b[39m\n\u001b[0;32m      6\u001b[0m     \u001b[38;5;28mprint\u001b[39m(\u001b[38;5;124m'\u001b[39m\u001b[38;5;124mDoing search work...\u001b[39m\u001b[38;5;124m'\u001b[39m)\n",
      "\u001b[1;31mAssertionError\u001b[0m: Number should be int"
     ]
    }
   ],
   "source": [
    "do_some_search('a')"
   ]
  },
  {
   "cell_type": "code",
   "execution_count": 11,
   "id": "99dc6005",
   "metadata": {},
   "outputs": [
    {
     "name": "stdout",
     "output_type": "stream",
     "text": [
      "Doing search work...\n"
     ]
    }
   ],
   "source": [
    "do_some_search(1)"
   ]
  },
  {
   "cell_type": "markdown",
   "id": "804449ad",
   "metadata": {},
   "source": [
    "## Некоторые магические методы"
   ]
  },
  {
   "cell_type": "markdown",
   "id": "504d1163",
   "metadata": {},
   "source": [
    "+ `__init__(self[, ...])` — конструктор класса, вызывается при определении объекта класса;\n",
    "+ `__str__(self)` — вызывается при вызове функции `str(...)`, возвращает строковый объект (то, что выводится при вызове print);\n",
    "+ `__eq__(self, other)` — определяет поведение оператора равенства, `==`;"
   ]
  },
  {
   "cell_type": "code",
   "execution_count": 12,
   "id": "c5f0a202",
   "metadata": {},
   "outputs": [
    {
     "name": "stdout",
     "output_type": "stream",
     "text": [
      "Jane Doe - JD@mail.com\n",
      "True\n"
     ]
    }
   ],
   "source": [
    "class User:\n",
    "    def __init__(self, name, email):\n",
    "        self.name = name\n",
    "        self.email = email\n",
    "    \n",
    "    def __str__(self):\n",
    "        return f'{self.name} - {self.email}'\n",
    "    \n",
    "    def __eq__(self, obj):\n",
    "        return self.email == obj.email\n",
    "\n",
    "\n",
    "jane = User('Jane Doe', 'JD@mail.com')\n",
    "print(jane)\n",
    "\n",
    "john = User('John Doe', 'JD@mail.com')\n",
    "print(jane == john)"
   ]
  },
  {
   "cell_type": "markdown",
   "id": "ac4c3a2c",
   "metadata": {},
   "source": [
    "+ `__getattr__(self, name)` — вызывается при обращении к несуществующему атрибуту;\n",
    "+ `__getattribute__(self, name)` — вызывается при обращении к любому атрибуту;"
   ]
  },
  {
   "cell_type": "code",
   "execution_count": 13,
   "id": "07a14a7f",
   "metadata": {},
   "outputs": [
    {
     "name": "stdout",
     "output_type": "stream",
     "text": [
      "Not gonna look for anything\n",
      "Not gonna look for anything\n",
      "Not gonna look for anything\n"
     ]
    }
   ],
   "source": [
    "class Seeker:\n",
    "    \n",
    "    def __getattr__(self, name):\n",
    "        return 'Looked but found nothing :('\n",
    "\n",
    "    def __getattribute__(self, name):\n",
    "        return 'Not gonna look for anything'\n",
    "\n",
    "\n",
    "s = Seeker()\n",
    "\n",
    "print(s.a)\n",
    "print(s.ALSKNDAKLSNDKL212)\n",
    "print(s.random_attribute)"
   ]
  },
  {
   "cell_type": "code",
   "execution_count": 14,
   "id": "089dcdb7",
   "metadata": {},
   "outputs": [
    {
     "name": "stdout",
     "output_type": "stream",
     "text": [
      "1\n",
      "Nothing found :(\n",
      "Nothing found :(\n"
     ]
    }
   ],
   "source": [
    "class Seeker:\n",
    "    \n",
    "    a = 1\n",
    "    \n",
    "    def __getattr__(self, name):\n",
    "        return 'Nothing found :('\n",
    "\n",
    "s = Seeker()\n",
    "\n",
    "print(s.a)\n",
    "print(s.ALSKNDAKLSNDKL212)\n",
    "print(s.random_attribute)"
   ]
  },
  {
   "cell_type": "markdown",
   "id": "19145b30",
   "metadata": {},
   "source": [
    "+ `__setattr__(self, name, value)` — вызывается методом `setattr(...)` или при обращении к атрибуту с последующим определением его значения;"
   ]
  },
  {
   "cell_type": "code",
   "execution_count": 21,
   "id": "e417984d",
   "metadata": {},
   "outputs": [
    {
     "name": "stdout",
     "output_type": "stream",
     "text": [
      "Not going to add python!\n"
     ]
    }
   ],
   "source": [
    "class Ignorant:\n",
    "    \n",
    "    def __setattr__(self, name, value):\n",
    "        print(f'Not going to add {name}!')\n",
    "\n",
    "\n",
    "ignor = Ignorant()\n",
    "ignor.python = 'python'"
   ]
  },
  {
   "cell_type": "code",
   "execution_count": 22,
   "id": "5dff6286",
   "metadata": {},
   "outputs": [
    {
     "ename": "AttributeError",
     "evalue": "'Ignorant' object has no attribute 'python'",
     "output_type": "error",
     "traceback": [
      "\u001b[1;31m---------------------------------------------------------------------------\u001b[0m",
      "\u001b[1;31mAttributeError\u001b[0m                            Traceback (most recent call last)",
      "Cell \u001b[1;32mIn [22], line 1\u001b[0m\n\u001b[1;32m----> 1\u001b[0m \u001b[43mignor\u001b[49m\u001b[38;5;241;43m.\u001b[39;49m\u001b[43mpython\u001b[49m \n",
      "\u001b[1;31mAttributeError\u001b[0m: 'Ignorant' object has no attribute 'python'"
     ]
    }
   ],
   "source": [
    "ignor.python "
   ]
  },
  {
   "cell_type": "code",
   "execution_count": 1,
   "id": "bf6d9b7c",
   "metadata": {},
   "outputs": [
    {
     "name": "stdout",
     "output_type": "stream",
     "text": [
      "Adding python!\n"
     ]
    }
   ],
   "source": [
    "class Ignorant:\n",
    "    \n",
    "    def __setattr__(self, name, value):\n",
    "        self.__dict__[name] = value\n",
    "        print(f'Adding {name}!')\n",
    "\n",
    "\n",
    "ignor = Ignorant()\n",
    "ignor.python = 'python'"
   ]
  },
  {
   "cell_type": "code",
   "execution_count": 2,
   "id": "5e35cca6",
   "metadata": {},
   "outputs": [
    {
     "data": {
      "text/plain": [
       "'python'"
      ]
     },
     "execution_count": 2,
     "metadata": {},
     "output_type": "execute_result"
    }
   ],
   "source": [
    "ignor.python "
   ]
  },
  {
   "cell_type": "markdown",
   "id": "726456c6",
   "metadata": {},
   "source": [
    "+ `__add__(self, other)` — сложение, оператор `+`;"
   ]
  },
  {
   "cell_type": "code",
   "execution_count": 16,
   "id": "46fd883c",
   "metadata": {},
   "outputs": [
    {
     "data": {
      "text/plain": [
       "'1 + 2 = 3'"
      ]
     },
     "execution_count": 16,
     "metadata": {},
     "output_type": "execute_result"
    }
   ],
   "source": [
    "class BeautySum:\n",
    "    \n",
    "    def __init__(self, num):\n",
    "        self.num = num\n",
    "    \n",
    "    def __add__(self, obj):\n",
    "        return f'{self.num} + {obj.num} = {self.num + obj.num}'\n",
    "\n",
    "    \n",
    "a = BeautySum(1)\n",
    "b = BeautySum(2)\n",
    "\n",
    "a + b"
   ]
  },
  {
   "cell_type": "markdown",
   "id": "a88b4a38",
   "metadata": {},
   "source": [
    "+ `__getitem__(self, key)` определяет поведение при доступе к объекту по ключу (или индексу), i.e. obj[key]\n",
    "+ `__setitem__(self, key, value)` определяет поведение при присваивании значения объекта по ключу (или индексу), i.e. obj[key] = value\n"
   ]
  },
  {
   "cell_type": "code",
   "execution_count": 17,
   "id": "502a0acc",
   "metadata": {},
   "outputs": [],
   "source": [
    "class Items:\n",
    "    \n",
    "    def __init__(self, items):\n",
    "        self.items = items\n",
    "    \n",
    "    def __getitem__(self, idx):\n",
    "        self.items[idx+100]\n",
    "    \n",
    "    def __setitem__(self, idx, value):\n",
    "        self.items[idx+100] = value"
   ]
  },
  {
   "cell_type": "markdown",
   "id": "d867b914",
   "metadata": {},
   "source": [
    "## Контекстные менеджеры"
   ]
  },
  {
   "cell_type": "markdown",
   "id": "7d894ea1",
   "metadata": {},
   "source": [
    "+ `__enter__(self)` — определяет начало блока контекстного менеджера, вызванного с помощью with;\n",
    "+ `__exit__(self,[...])` — определяет конец блока контекстного менеджера;"
   ]
  },
  {
   "cell_type": "raw",
   "id": "40e024ff",
   "metadata": {},
   "source": [
    "Любой объект может быть представлен как контекстный менеджер, который вызывается с помощью with. Данная конструкция позволяет выполнить какие-либо действия по настройке объекта и при выходе из контекстного менеджера, произвести какие-либо действия по очистке."
   ]
  },
  {
   "cell_type": "code",
   "execution_count": 18,
   "id": "93678363",
   "metadata": {},
   "outputs": [
    {
     "name": "stdout",
     "output_type": "stream",
     "text": [
      "goes in\n"
     ]
    }
   ],
   "source": [
    "with open('file.txt', 'w') as f:\n",
    "    f.write('goes in')\n",
    "\n",
    "    \n",
    "# это происходит под капотом у контекстного мэнеджера with open\n",
    "class open_file:\n",
    "    \n",
    "    def __init__(self, filename, mode):\n",
    "        self.f = open(filename, mode)\n",
    "        \n",
    "    def __enter__(self):\n",
    "        return self.f\n",
    "    \n",
    "    def __exit__(self, *args):\n",
    "        self.f.close()\n",
    "\n",
    "\n",
    "with open_file('file.txt', 'r') as f:\n",
    "    print(f.read())"
   ]
  },
  {
   "cell_type": "code",
   "execution_count": 19,
   "id": "e0acc8ea",
   "metadata": {},
   "outputs": [
    {
     "name": "stdout",
     "output_type": "stream",
     "text": [
      "Elapsed: 1.0078942775726318\n"
     ]
    }
   ],
   "source": [
    "import time\n",
    "\n",
    "\n",
    "class timer:\n",
    "    \n",
    "    def __init__(self):\n",
    "        self.start = time.time()\n",
    "    \n",
    "    def __enter__(self):\n",
    "        pass\n",
    "    \n",
    "    def __exit__(self, *args):\n",
    "        print(f'Elapsed: {time.time() - self.start}')\n",
    "        \n",
    "        \n",
    "with timer():\n",
    "    time.sleep(1)"
   ]
  }
 ],
 "metadata": {
  "kernelspec": {
   "display_name": "Python 3 (ipykernel)",
   "language": "python",
   "name": "python3"
  },
  "language_info": {
   "codemirror_mode": {
    "name": "ipython",
    "version": 3
   },
   "file_extension": ".py",
   "mimetype": "text/x-python",
   "name": "python",
   "nbconvert_exporter": "python",
   "pygments_lexer": "ipython3",
   "version": "3.8.10"
  }
 },
 "nbformat": 4,
 "nbformat_minor": 5
}
