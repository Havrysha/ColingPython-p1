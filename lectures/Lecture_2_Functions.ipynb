{
 "cells": [
  {
   "cell_type": "code",
   "execution_count": 5,
   "id": "d160fbc3",
   "metadata": {
    "slideshow": {
     "slide_type": "slide"
    }
   },
   "outputs": [
    {
     "data": {
      "text/plain": [
       "42"
      ]
     },
     "execution_count": 5,
     "metadata": {},
     "output_type": "execute_result"
    }
   ],
   "source": [
    "# 8. Функции\n",
    "\n",
    "def foo():\n",
    "    return 42\n",
    "\n",
    "foo()"
   ]
  },
  {
   "cell_type": "code",
   "execution_count": 6,
   "id": "94df0810",
   "metadata": {
    "slideshow": {
     "slide_type": "subslide"
    }
   },
   "outputs": [
    {
     "name": "stdout",
     "output_type": "stream",
     "text": [
      "4\n"
     ]
    }
   ],
   "source": [
    "def foo(x):\n",
    "    if x % 2 == 0:\n",
    "        return x ** 2\n",
    "    return x\n",
    "\n",
    "print(foo(2))"
   ]
  },
  {
   "cell_type": "code",
   "execution_count": 7,
   "id": "f6f9018c",
   "metadata": {
    "slideshow": {
     "slide_type": "subslide"
    }
   },
   "outputs": [
    {
     "name": "stdout",
     "output_type": "stream",
     "text": [
      "I return 42\n"
     ]
    }
   ],
   "source": [
    "def foo():\n",
    "    \"\"\"I return 42\"\"\"\n",
    "    return 42\n",
    "\n",
    "print(foo.__doc__)"
   ]
  },
  {
   "cell_type": "code",
   "execution_count": 8,
   "id": "677583ab",
   "metadata": {
    "slideshow": {
     "slide_type": "subslide"
    }
   },
   "outputs": [
    {
     "name": "stdout",
     "output_type": "stream",
     "text": [
      "Help on function foo in module __main__:\n",
      "\n",
      "foo()\n",
      "    I return 42\n",
      "\n"
     ]
    }
   ],
   "source": [
    "help(foo)"
   ]
  },
  {
   "cell_type": "code",
   "execution_count": 9,
   "id": "9c649132",
   "metadata": {
    "slideshow": {
     "slide_type": "slide"
    }
   },
   "outputs": [
    {
     "data": {
      "text/plain": [
       "5"
      ]
     },
     "execution_count": 9,
     "metadata": {},
     "output_type": "execute_result"
    }
   ],
   "source": [
    "def min(x, y):\n",
    "    return x if x < y else y\n",
    "\n",
    "min(5, 7)"
   ]
  },
  {
   "cell_type": "code",
   "execution_count": 10,
   "id": "faca941e",
   "metadata": {
    "slideshow": {
     "slide_type": "fragment"
    }
   },
   "outputs": [
    {
     "data": {
      "text/plain": [
       "5"
      ]
     },
     "execution_count": 10,
     "metadata": {},
     "output_type": "execute_result"
    }
   ],
   "source": [
    "min(x=5, y=7)"
   ]
  },
  {
   "cell_type": "code",
   "execution_count": 4,
   "id": "caf53dbf",
   "metadata": {
    "slideshow": {
     "slide_type": "slide"
    }
   },
   "outputs": [],
   "source": [
    "# Как использовать min для любого числа аргументов?\n",
    "min(2, 3, 4)\n",
    "\n",
    "# Использовать для коллекций\n",
    "min({1, 2, 3})"
   ]
  },
  {
   "cell_type": "code",
   "execution_count": 14,
   "id": "0c62af09",
   "metadata": {
    "slideshow": {
     "slide_type": "subslide"
    }
   },
   "outputs": [],
   "source": [
    "# Упаковка аргументов\n",
    "\n",
    "def min(*args): # type(args) == tuple\n",
    "    res = float(\"inf\")\n",
    "    for arg in args:\n",
    "        if arg < res:\n",
    "            res = arg\n",
    "    return res"
   ]
  },
  {
   "cell_type": "code",
   "execution_count": 15,
   "id": "375b977e",
   "metadata": {
    "slideshow": {
     "slide_type": "fragment"
    }
   },
   "outputs": [
    {
     "data": {
      "text/plain": [
       "inf"
      ]
     },
     "execution_count": 15,
     "metadata": {},
     "output_type": "execute_result"
    }
   ],
   "source": [
    "min() # проблема ?"
   ]
  },
  {
   "cell_type": "code",
   "execution_count": 28,
   "id": "62b367f7",
   "metadata": {
    "slideshow": {
     "slide_type": "subslide"
    }
   },
   "outputs": [],
   "source": [
    "def min(first, *args):\n",
    "    res = first\n",
    "    for arg in args:\n",
    "        if arg < res:\n",
    "            res = arg\n",
    "    return res"
   ]
  },
  {
   "cell_type": "code",
   "execution_count": 18,
   "id": "56fee5c3",
   "metadata": {
    "slideshow": {
     "slide_type": "fragment"
    }
   },
   "outputs": [
    {
     "ename": "TypeError",
     "evalue": "min() missing 1 required positional argument: 'first'",
     "output_type": "error",
     "traceback": [
      "\u001b[0;31m---------------------------------------------------------------------------\u001b[0m",
      "\u001b[0;31mTypeError\u001b[0m                                 Traceback (most recent call last)",
      "Input \u001b[0;32mIn [18]\u001b[0m, in \u001b[0;36m<cell line: 1>\u001b[0;34m()\u001b[0m\n\u001b[0;32m----> 1\u001b[0m \u001b[38;5;28;43mmin\u001b[39;49m\u001b[43m(\u001b[49m\u001b[43m)\u001b[49m\n",
      "\u001b[0;31mTypeError\u001b[0m: min() missing 1 required positional argument: 'first'"
     ]
    }
   ],
   "source": [
    "min()"
   ]
  },
  {
   "cell_type": "code",
   "execution_count": 25,
   "id": "69aec9c8",
   "metadata": {
    "slideshow": {
     "slide_type": "slide"
    }
   },
   "outputs": [
    {
     "data": {
      "text/plain": [
       "3"
      ]
     },
     "execution_count": 25,
     "metadata": {},
     "output_type": "execute_result"
    }
   ],
   "source": [
    "min(3, 4, 5, 6, 10, 100, 200)"
   ]
  },
  {
   "cell_type": "code",
   "execution_count": 26,
   "id": "10d1da35",
   "metadata": {
    "slideshow": {
     "slide_type": "slide"
    }
   },
   "outputs": [
    {
     "data": {
      "text/plain": [
       "1"
      ]
     },
     "execution_count": 26,
     "metadata": {},
     "output_type": "execute_result"
    }
   ],
   "source": [
    "# Применение min к коллекции\n",
    "xs = {1, 2, 3}\n",
    "\n",
    "# Распаковка! Симметрично упаковке\n",
    "min(*xs)"
   ]
  },
  {
   "cell_type": "code",
   "execution_count": 27,
   "id": "61bc02ba",
   "metadata": {
    "slideshow": {
     "slide_type": "subslide"
    }
   },
   "outputs": [
    {
     "data": {
      "text/plain": [
       "1"
      ]
     },
     "execution_count": 27,
     "metadata": {},
     "output_type": "execute_result"
    }
   ],
   "source": [
    "min(*[1, 2, 3])\n",
    " \n",
    "min(*{1, 2, 3}) # какая проблема при распаковке множества?\n",
    "\n",
    "min(*(1, 2, 3))"
   ]
  },
  {
   "cell_type": "raw",
   "id": "62a2473a",
   "metadata": {},
   "source": []
  },
  {
   "cell_type": "raw",
   "id": "614dc944",
   "metadata": {
    "slideshow": {
     "slide_type": "slide"
    }
   },
   "source": [
    "Правило: количество параметров равно количеству аргументов!\n",
    "\n",
    "• Конкретные значения, которые передаются в функцию при ее вызове, - это аргументы. После вызова функции значения аргументов становятся доступными из локальных (в теле функции) переменных.\n",
    "\n",
    "• Параметры - это переменные, которые используются при создании функции. "
   ]
  },
  {
   "cell_type": "raw",
   "id": "bcf42e34",
   "metadata": {},
   "source": []
  },
  {
   "cell_type": "code",
   "execution_count": 32,
   "id": "c0115f45",
   "metadata": {
    "slideshow": {
     "slide_type": "slide"
    }
   },
   "outputs": [],
   "source": [
    "def accumulate(arr):\n",
    "    new_arr = []\n",
    "    for x in arr:\n",
    "        new_arr.append(x + 1)\n",
    "    return new_arr"
   ]
  },
  {
   "cell_type": "code",
   "execution_count": 33,
   "id": "bea3fd00",
   "metadata": {
    "slideshow": {
     "slide_type": "fragment"
    }
   },
   "outputs": [
    {
     "data": {
      "text/plain": [
       "[2, 3, 4]"
      ]
     },
     "execution_count": 33,
     "metadata": {},
     "output_type": "execute_result"
    }
   ],
   "source": [
    "accumulate([1,2,3])"
   ]
  },
  {
   "cell_type": "code",
   "execution_count": 34,
   "id": "0839b817",
   "metadata": {
    "slideshow": {
     "slide_type": "slide"
    }
   },
   "outputs": [],
   "source": [
    "def accumulate(arr, new_arr=[]):\n",
    "    for x in arr:\n",
    "        new_arr.append(x + 1)\n",
    "    return new_arr"
   ]
  },
  {
   "cell_type": "code",
   "execution_count": 35,
   "id": "edfa7392",
   "metadata": {
    "slideshow": {
     "slide_type": "fragment"
    }
   },
   "outputs": [
    {
     "data": {
      "text/plain": [
       "[2, 3, 4]"
      ]
     },
     "execution_count": 35,
     "metadata": {},
     "output_type": "execute_result"
    }
   ],
   "source": [
    "accumulate([1,2,3])"
   ]
  },
  {
   "cell_type": "code",
   "execution_count": null,
   "id": "40cfc817",
   "metadata": {
    "slideshow": {
     "slide_type": "fragment"
    }
   },
   "outputs": [],
   "source": [
    "accumulate([1,2,3]) # что вернет функция при повторном вызове? Переиспользование, байт код"
   ]
  },
  {
   "cell_type": "code",
   "execution_count": 37,
   "id": "c18b1968",
   "metadata": {
    "slideshow": {
     "slide_type": "subslide"
    }
   },
   "outputs": [
    {
     "data": {
      "text/plain": [
       "[2, 3, 4, 2, 3, 4, 2, 3, 4]"
      ]
     },
     "execution_count": 37,
     "metadata": {},
     "output_type": "execute_result"
    }
   ],
   "source": [
    "accumulate([1,2,3]) # исполняем"
   ]
  },
  {
   "cell_type": "code",
   "execution_count": 38,
   "id": "68695a00",
   "metadata": {
    "slideshow": {
     "slide_type": "subslide"
    }
   },
   "outputs": [],
   "source": [
    "# Решение?\n",
    "\n",
    "def accumulate(arr, new_arr=None):\n",
    "    new_arr = new_arr or []\n",
    "    for x in arr:\n",
    "        new_arr.append(x + 1)\n",
    "    return new_arr"
   ]
  },
  {
   "cell_type": "code",
   "execution_count": 39,
   "id": "a9319552",
   "metadata": {
    "slideshow": {
     "slide_type": "fragment"
    }
   },
   "outputs": [
    {
     "name": "stdout",
     "output_type": "stream",
     "text": [
      "[3, 4, 5]\n",
      "[3, 4, 5]\n"
     ]
    }
   ],
   "source": [
    "print(accumulate([2,3,4]))\n",
    "print(accumulate([2,3,4]))"
   ]
  },
  {
   "cell_type": "raw",
   "id": "28d897eb",
   "metadata": {},
   "source": []
  },
  {
   "cell_type": "raw",
   "id": "cff26400",
   "metadata": {
    "slideshow": {
     "slide_type": "slide"
    }
   },
   "source": [
    "У функции могут быть обязательные и необязательные параметры:\n",
    "\n",
    "• Обязательные аргументы всегда нужно передавать при вызове функции, например, нельзя передать один аргумент, если функция требует два обязательных. (или позиционные аргументы)\n",
    "\n",
    "• Необязательные параметры имеют определенное значение по умолчанию, которое можно поменять в случае необходимости. Есть ограничение: они должны идти в самом конце списка параметров. С точки зрения синтаксиса, невозможно создать функцию, у которой после необязательного параметра идет обязательный.\n",
    "Опциональные параметры можно задавать при вызове функции, используя их имена. (им соответсвуют именованные аргументы)"
   ]
  },
  {
   "cell_type": "code",
   "execution_count": 45,
   "id": "cdc75968",
   "metadata": {
    "slideshow": {
     "slide_type": "subslide"
    }
   },
   "outputs": [],
   "source": [
    "def foo(xs, aux=None):\n",
    "    return"
   ]
  },
  {
   "cell_type": "code",
   "execution_count": 41,
   "id": "1df77571",
   "metadata": {
    "slideshow": {
     "slide_type": "fragment"
    }
   },
   "outputs": [],
   "source": [
    "# можно передавать ключевые аргументы без ключа по позиции\n",
    "\n",
    "foo([1,2,3], aux='a')\n",
    "foo([1,2,3], 'a')"
   ]
  },
  {
   "cell_type": "code",
   "execution_count": 5,
   "id": "023fca52",
   "metadata": {
    "slideshow": {
     "slide_type": "slide"
    }
   },
   "outputs": [
    {
     "ename": "TypeError",
     "evalue": "foo() takes 1 positional argument but 2 were given",
     "output_type": "error",
     "traceback": [
      "\u001b[0;31m---------------------------------------------------------------------------\u001b[0m",
      "\u001b[0;31mTypeError\u001b[0m                                 Traceback (most recent call last)",
      "\u001b[0;32m/tmp/ipykernel_49139/1607179168.py\u001b[0m in \u001b[0;36m<module>\u001b[0;34m\u001b[0m\n\u001b[1;32m      2\u001b[0m     \u001b[0;32mreturn\u001b[0m\u001b[0;34m\u001b[0m\u001b[0;34m\u001b[0m\u001b[0m\n\u001b[1;32m      3\u001b[0m \u001b[0;34m\u001b[0m\u001b[0m\n\u001b[0;32m----> 4\u001b[0;31m \u001b[0mfoo\u001b[0m\u001b[0;34m(\u001b[0m\u001b[0;34m[\u001b[0m\u001b[0;36m1\u001b[0m\u001b[0;34m,\u001b[0m\u001b[0;36m2\u001b[0m\u001b[0;34m]\u001b[0m\u001b[0;34m,\u001b[0m \u001b[0;34m'a'\u001b[0m\u001b[0;34m)\u001b[0m\u001b[0;34m\u001b[0m\u001b[0;34m\u001b[0m\u001b[0m\n\u001b[0m",
      "\u001b[0;31mTypeError\u001b[0m: foo() takes 1 positional argument but 2 were given"
     ]
    }
   ],
   "source": [
    "def foo(xs, *, aux=None):\n",
    "    return\n",
    "\n",
    "foo([1,2], 'a')"
   ]
  },
  {
   "cell_type": "code",
   "execution_count": 6,
   "id": "91839237",
   "metadata": {
    "slideshow": {
     "slide_type": "fragment"
    }
   },
   "outputs": [],
   "source": [
    "foo([1,2], aux='a')"
   ]
  },
  {
   "cell_type": "code",
   "execution_count": null,
   "id": "12ffb074",
   "metadata": {},
   "outputs": [],
   "source": []
  },
  {
   "cell_type": "code",
   "execution_count": 47,
   "id": "9055f87b",
   "metadata": {
    "slideshow": {
     "slide_type": "slide"
    }
   },
   "outputs": [
    {
     "name": "stdout",
     "output_type": "stream",
     "text": [
      "None\n"
     ]
    }
   ],
   "source": [
    "# Функция необязательно должна что-то возвращать, но return можно сделать пустым, тогда функция вернет None\n",
    "\n",
    "print(foo([1,2], aux='a'))"
   ]
  },
  {
   "cell_type": "code",
   "execution_count": null,
   "id": "5a264698",
   "metadata": {},
   "outputs": [],
   "source": []
  },
  {
   "cell_type": "code",
   "execution_count": 1,
   "id": "42086f35",
   "metadata": {
    "slideshow": {
     "slide_type": "slide"
    }
   },
   "outputs": [],
   "source": [
    "def runner(cmd, **kwargs):\n",
    "    print(kwargs)\n",
    "    if kwargs.get(\"verbose\", True):\n",
    "        print(\"Logging enabled\")\n"
   ]
  },
  {
   "cell_type": "code",
   "execution_count": 3,
   "id": "c8684752",
   "metadata": {
    "slideshow": {
     "slide_type": "fragment"
    }
   },
   "outputs": [
    {
     "name": "stdout",
     "output_type": "stream",
     "text": [
      "{'limit': 42, 'verbose': True}\n",
      "Logging enabled\n"
     ]
    }
   ],
   "source": [
    "runner(\"mysqld\", limit=42, verbose=True)"
   ]
  },
  {
   "cell_type": "code",
   "execution_count": 53,
   "id": "61a81ed2",
   "metadata": {
    "slideshow": {
     "slide_type": "fragment"
    }
   },
   "outputs": [
    {
     "name": "stdout",
     "output_type": "stream",
     "text": [
      "{'verbose': False}\n"
     ]
    }
   ],
   "source": [
    "runner(\"mysqld\", **{\"verbose\": False})"
   ]
  },
  {
   "cell_type": "code",
   "execution_count": 52,
   "id": "85114b30",
   "metadata": {
    "slideshow": {
     "slide_type": "subslide"
    }
   },
   "outputs": [
    {
     "ename": "TypeError",
     "evalue": "runner() takes 1 positional argument but 2 were given",
     "output_type": "error",
     "traceback": [
      "\u001b[0;31m---------------------------------------------------------------------------\u001b[0m",
      "\u001b[0;31mTypeError\u001b[0m                                 Traceback (most recent call last)",
      "Input \u001b[0;32mIn [52]\u001b[0m, in \u001b[0;36m<cell line: 1>\u001b[0;34m()\u001b[0m\n\u001b[0;32m----> 1\u001b[0m \u001b[43mrunner\u001b[49m\u001b[43m(\u001b[49m\u001b[38;5;124;43m\"\u001b[39;49m\u001b[38;5;124;43mmysqld\u001b[39;49m\u001b[38;5;124;43m\"\u001b[39;49m\u001b[43m,\u001b[49m\u001b[43m \u001b[49m\u001b[43m{\u001b[49m\u001b[38;5;124;43m\"\u001b[39;49m\u001b[38;5;124;43mverbose\u001b[39;49m\u001b[38;5;124;43m\"\u001b[39;49m\u001b[43m:\u001b[49m\u001b[43m \u001b[49m\u001b[38;5;28;43;01mFalse\u001b[39;49;00m\u001b[43m}\u001b[49m\u001b[43m)\u001b[49m\n",
      "\u001b[0;31mTypeError\u001b[0m: runner() takes 1 positional argument but 2 were given"
     ]
    }
   ],
   "source": [
    "# Из словаря в функцию можно передать ключевые аргументы, только в этом случае, \n",
    "# перед переменной словаря ставится два символов звездочки **\n",
    "\n",
    "runner(\"mysqld\", {\"verbose\": False})"
   ]
  },
  {
   "cell_type": "raw",
   "id": "3b4d4c78",
   "metadata": {
    "slideshow": {
     "slide_type": "subslide"
    }
   },
   "source": [
    "*args — сокращение от «arguments» (аргументы)\n",
    "**kwargs — сокращение от «keyword arguments» (именованные аргументы)\n",
    "\n",
    "При применении конструкции *args в параметр args попадают позиционные аргументы, представляемые в виде кортежа. При применении **kwargs в kwargs попадают именованные аргументы, представленные в виде словаря."
   ]
  },
  {
   "cell_type": "raw",
   "id": "356d0b23",
   "metadata": {},
   "source": []
  },
  {
   "cell_type": "code",
   "execution_count": 54,
   "id": "79a8b48f",
   "metadata": {
    "slideshow": {
     "slide_type": "slide"
    }
   },
   "outputs": [],
   "source": [
    "# Поговорим о присваивании\n",
    "\n",
    "acc = []\n",
    "seen = set()\n",
    "(acc, seen) = ([], set())\n",
    "\n",
    "# В качестве правого аргумента можно использовать любой объект, поддерживающий протокол итератора\n",
    "x, y, z = [1, 2, 3]\n",
    "x, y, z = {1, 2, 3} # unordered!\n",
    "x, y, z = \"xyz\"\n",
    "\n",
    "\n",
    "# Скобки обычно опускают, но иногда они бывают полезны\n",
    "rectangle = (0, 0), (4, 4)\n",
    "(x1, y1), (x2, y2) = rectangle"
   ]
  },
  {
   "cell_type": "code",
   "execution_count": 55,
   "id": "b0f78ed8",
   "metadata": {
    "slideshow": {
     "slide_type": "subslide"
    }
   },
   "outputs": [],
   "source": [
    "# Обмен переменных"
   ]
  },
  {
   "cell_type": "code",
   "execution_count": 118,
   "id": "579cf83f",
   "metadata": {
    "slideshow": {
     "slide_type": "fragment"
    }
   },
   "outputs": [
    {
     "name": "stdout",
     "output_type": "stream",
     "text": [
      "2 2\n"
     ]
    }
   ],
   "source": [
    "# Обмен значений переменных не произойдет если делать это так:\n",
    "\n",
    "x = 1\n",
    "y = 2\n",
    "\n",
    "x = y\n",
    "y = x\n",
    "\n",
    "# переменные будут ссылаться на одно значение, так как x был перезаписан \n",
    "print(x, y)"
   ]
  },
  {
   "cell_type": "code",
   "execution_count": 120,
   "id": "1eb63634",
   "metadata": {
    "slideshow": {
     "slide_type": "subslide"
    }
   },
   "outputs": [
    {
     "name": "stdout",
     "output_type": "stream",
     "text": [
      "2 1\n"
     ]
    }
   ],
   "source": [
    "# 1 (через третию переменную, так мы сможем сохранить исходное значение x)\n",
    "x, y = 1, 2\n",
    "\n",
    "z = x\n",
    "x = y\n",
    "y = z\n",
    "\n",
    "print(x, y)"
   ]
  },
  {
   "cell_type": "code",
   "execution_count": 119,
   "id": "e6f395e0",
   "metadata": {
    "slideshow": {
     "slide_type": "fragment"
    }
   },
   "outputs": [
    {
     "name": "stdout",
     "output_type": "stream",
     "text": [
      "2 1\n"
     ]
    }
   ],
   "source": [
    "# 2\n",
    "x, y = 1, 2\n",
    "x, y = y, x\n",
    "print(x, y)"
   ]
  },
  {
   "cell_type": "code",
   "execution_count": 127,
   "id": "7499a9d8",
   "metadata": {
    "slideshow": {
     "slide_type": "slide"
    }
   },
   "outputs": [
    {
     "name": "stdout",
     "output_type": "stream",
     "text": [
      "1\n",
      "\n",
      "[2, 3, 4, 5, 6, 7, 8, 9, 10, 11, 12, 13, 14, 15, 16, 17, 18, 19]\n"
     ]
    }
   ],
   "source": [
    "# Расширенный синтаксис распаковки\n",
    "\n",
    "first, *rest = range(1,20)\n",
    "print(first)\n",
    "print()\n",
    "print(rest)"
   ]
  },
  {
   "cell_type": "code",
   "execution_count": 58,
   "id": "7f6eb928",
   "metadata": {
    "slideshow": {
     "slide_type": "fragment"
    }
   },
   "outputs": [
    {
     "name": "stdout",
     "output_type": "stream",
     "text": [
      "1\n",
      "3\n"
     ]
    }
   ],
   "source": [
    "first, *rest, last = range(1,4)\n",
    "print(first)\n",
    "print(last)"
   ]
  },
  {
   "cell_type": "code",
   "execution_count": 59,
   "id": "8141be99",
   "metadata": {
    "slideshow": {
     "slide_type": "subslide"
    }
   },
   "outputs": [],
   "source": [
    "first, *rest, last = [42, 1]"
   ]
  },
  {
   "cell_type": "code",
   "execution_count": 60,
   "id": "25e71fd6",
   "metadata": {
    "slideshow": {
     "slide_type": "fragment"
    }
   },
   "outputs": [
    {
     "ename": "ValueError",
     "evalue": "not enough values to unpack (expected 3, got 2)",
     "output_type": "error",
     "traceback": [
      "\u001b[0;31m---------------------------------------------------------------------------\u001b[0m",
      "\u001b[0;31mValueError\u001b[0m                                Traceback (most recent call last)",
      "Input \u001b[0;32mIn [60]\u001b[0m, in \u001b[0;36m<cell line: 1>\u001b[0;34m()\u001b[0m\n\u001b[0;32m----> 1\u001b[0m first, rest, last \u001b[38;5;241m=\u001b[39m [\u001b[38;5;241m42\u001b[39m, \u001b[38;5;241m1\u001b[39m]\n",
      "\u001b[0;31mValueError\u001b[0m: not enough values to unpack (expected 3, got 2)"
     ]
    }
   ],
   "source": [
    "# Когда мы распаковываем значения в переменные, количество переменных на левой стороне \n",
    "# должно точно соответствовать количеству значений на правой стороне \n",
    "\n",
    "first, rest, last = [42, 1]"
   ]
  },
  {
   "cell_type": "code",
   "execution_count": 64,
   "id": "761a83a9",
   "metadata": {
    "slideshow": {
     "slide_type": "subslide"
    }
   },
   "outputs": [
    {
     "ename": "SyntaxError",
     "evalue": "multiple starred expressions in assignment (916615430.py, line 3)",
     "output_type": "error",
     "traceback": [
      "\u001b[0;36m  Input \u001b[0;32mIn [64]\u001b[0;36m\u001b[0m\n\u001b[0;31m    first, *rest, *rest, last = [2, 2, 2, 2, 2]\u001b[0m\n\u001b[0m    ^\u001b[0m\n\u001b[0;31mSyntaxError\u001b[0m\u001b[0;31m:\u001b[0m multiple starred expressions in assignment\n"
     ]
    }
   ],
   "source": [
    "# Звездочка слева может быть только одна!\n",
    "\n",
    "first, *rest, *rest, last = [2, 2, 2, 2, 2]"
   ]
  },
  {
   "cell_type": "code",
   "execution_count": 65,
   "id": "2c2d0883",
   "metadata": {
    "slideshow": {
     "slide_type": "fragment"
    }
   },
   "outputs": [
    {
     "name": "stdout",
     "output_type": "stream",
     "text": [
      "2\n"
     ]
    }
   ],
   "source": [
    "# динамическое присваивание\n",
    "\n",
    "x, (x, y) = 1, (2, 3)\n",
    "print(x)"
   ]
  },
  {
   "cell_type": "code",
   "execution_count": 109,
   "id": "0fcf3f42",
   "metadata": {
    "slideshow": {
     "slide_type": "subslide"
    }
   },
   "outputs": [],
   "source": [
    "# Области видимости"
   ]
  },
  {
   "cell_type": "raw",
   "id": "4d62e681",
   "metadata": {
    "slideshow": {
     "slide_type": "slide"
    }
   },
   "source": [
    "Переменные, определенные внутри функции – локальные, снаружи – глобальные. \n",
    "\n",
    "NB! Локальная области видимости: локальные переменные - это те переменные, которые видны только внутри функции, и которые не могут использоваться за ее пределами с теми значениями, которые были им присвоены внутри функции при ее работе.\n",
    "\n",
    "Также снаружи функций не видны никакие переменные, определенные внутри них."
   ]
  },
  {
   "cell_type": "code",
   "execution_count": 106,
   "id": "2a92d2e5",
   "metadata": {
    "slideshow": {
     "slide_type": "subslide"
    }
   },
   "outputs": [
    {
     "name": "stdout",
     "output_type": "stream",
     "text": [
      "0\n",
      "1\n",
      "2\n",
      "3\n",
      "4\n"
     ]
    }
   ],
   "source": [
    "def f():\n",
    "    print(i)\n",
    "\n",
    "for i in range(5):\n",
    "    f() # динамический поиск имени"
   ]
  },
  {
   "cell_type": "code",
   "execution_count": 107,
   "id": "90839fc5",
   "metadata": {
    "slideshow": {
     "slide_type": "subslide"
    }
   },
   "outputs": [
    {
     "ename": "UnboundLocalError",
     "evalue": "local variable 'min' referenced before assignment",
     "output_type": "error",
     "traceback": [
      "\u001b[0;31m---------------------------------------------------------------------------\u001b[0m",
      "\u001b[0;31mUnboundLocalError\u001b[0m                         Traceback (most recent call last)",
      "Input \u001b[0;32mIn [107]\u001b[0m, in \u001b[0;36m<cell line: 8>\u001b[0;34m()\u001b[0m\n\u001b[1;32m      5\u001b[0m     \u001b[38;5;28mmin\u001b[39m \u001b[38;5;241m+\u001b[39m\u001b[38;5;241m=\u001b[39m \u001b[38;5;241m1\u001b[39m\n\u001b[1;32m      6\u001b[0m     \u001b[38;5;28;01mreturn\u001b[39;00m \u001b[38;5;28mmin\u001b[39m\n\u001b[0;32m----> 8\u001b[0m \u001b[43mf\u001b[49m\u001b[43m(\u001b[49m\u001b[43m)\u001b[49m\n",
      "Input \u001b[0;32mIn [107]\u001b[0m, in \u001b[0;36mf\u001b[0;34m()\u001b[0m\n\u001b[1;32m      4\u001b[0m \u001b[38;5;28;01mdef\u001b[39;00m \u001b[38;5;21mf\u001b[39m():\n\u001b[0;32m----> 5\u001b[0m     \u001b[38;5;28mmin\u001b[39m \u001b[38;5;241m+\u001b[39m\u001b[38;5;241m=\u001b[39m \u001b[38;5;241m1\u001b[39m\n\u001b[1;32m      6\u001b[0m     \u001b[38;5;28;01mreturn\u001b[39;00m \u001b[38;5;28mmin\u001b[39m\n",
      "\u001b[0;31mUnboundLocalError\u001b[0m: local variable 'min' referenced before assignment"
     ]
    }
   ],
   "source": [
    "# Трюк не работает с присваиванием. Локальная область видимости\n",
    "\n",
    "min = 42\n",
    "\n",
    "def f():\n",
    "    min += 1\n",
    "    return min\n",
    "\n",
    "f()"
   ]
  },
  {
   "cell_type": "code",
   "execution_count": 108,
   "id": "6673371e",
   "metadata": {
    "slideshow": {
     "slide_type": "subslide"
    }
   },
   "outputs": [
    {
     "name": "stdout",
     "output_type": "stream",
     "text": [
      "42\n"
     ]
    }
   ],
   "source": [
    "# Решение: использование оператора Global - позволяет изменять изнутри функции значение глобальной переменной \n",
    "# Но лучше так не делать: чем меньше то, что происходит внутри функции будет зависеть от \n",
    "# глобальной области видимости, тем лучше.\n",
    "\n",
    "\n",
    "min = 42\n",
    "def f():\n",
    "    global min\n",
    "    min += 1\n",
    "    return min\n",
    "\n",
    "print(min)"
   ]
  },
  {
   "cell_type": "raw",
   "id": "c31a31de",
   "metadata": {},
   "source": []
  },
  {
   "cell_type": "code",
   "execution_count": 66,
   "id": "7812cf51",
   "metadata": {
    "slideshow": {
     "slide_type": "slide"
    }
   },
   "outputs": [],
   "source": [
    "# 10. Функциональное программирование \n",
    "# NB. Python - не функциональный язык!"
   ]
  },
  {
   "cell_type": "code",
   "execution_count": 67,
   "id": "bd2b3b8f",
   "metadata": {
    "slideshow": {
     "slide_type": "subslide"
    }
   },
   "outputs": [],
   "source": [
    "a = lambda x: x**2"
   ]
  },
  {
   "cell_type": "code",
   "execution_count": null,
   "id": "47a0ef21",
   "metadata": {
    "slideshow": {
     "slide_type": "fragment"
    }
   },
   "outputs": [],
   "source": [
    "# Эквивалентно по поведению: лямбда функция - это то же самое, что и обычные функция, но без имени\n",
    "\n",
    "lambda arguments: expression\n",
    "\n",
    "def <lambda>(arguments):\n",
    "    expression"
   ]
  },
  {
   "cell_type": "code",
   "execution_count": 69,
   "id": "d1a7bd27",
   "metadata": {
    "slideshow": {
     "slide_type": "fragment"
    }
   },
   "outputs": [
    {
     "name": "stdout",
     "output_type": "stream",
     "text": [
      "3\n"
     ]
    }
   ],
   "source": [
    "add_two = lambda x: x + 2\n",
    "\n",
    "print(add_two(1))"
   ]
  },
  {
   "cell_type": "code",
   "execution_count": 70,
   "id": "2ff71513",
   "metadata": {
    "slideshow": {
     "slide_type": "subslide"
    }
   },
   "outputs": [
    {
     "name": "stdout",
     "output_type": "stream",
     "text": [
      "3\n"
     ]
    }
   ],
   "source": [
    "def add_two(x):\n",
    "    return x + 2\n",
    "\n",
    "print(add_two(1))"
   ]
  },
  {
   "cell_type": "code",
   "execution_count": 103,
   "id": "7e22568f",
   "metadata": {
    "slideshow": {
     "slide_type": "fragment"
    }
   },
   "outputs": [
    {
     "data": {
      "text/plain": [
       "['1', '11', '19', '37', '5', '50']"
      ]
     },
     "execution_count": 103,
     "metadata": {},
     "output_type": "execute_result"
    }
   ],
   "source": [
    "# lambda можно использовать в любом месте, где ожидается функция\n",
    "\n",
    "# Например, функция sorted сортирует список, по умолчанию она сортирует его по возрастанию\n",
    "lst = ['11', '50', '5', '1', '37', '19']\n",
    "sorted(lst)"
   ]
  },
  {
   "cell_type": "code",
   "execution_count": null,
   "id": "d6870cee",
   "metadata": {
    "slideshow": {
     "slide_type": "fragment"
    }
   },
   "outputs": [],
   "source": [
    "# но у этой функции есть необязательный параметр key: \n",
    "# если указать ключ, то сортировка будет выполнена по функции этого ключа"
   ]
  },
  {
   "cell_type": "code",
   "execution_count": 105,
   "id": "2b473594",
   "metadata": {
    "slideshow": {
     "slide_type": "fragment"
    }
   },
   "outputs": [
    {
     "data": {
      "text/plain": [
       "['11', '1', '19', '37', '50', '5']"
      ]
     },
     "execution_count": 105,
     "metadata": {},
     "output_type": "execute_result"
    }
   ],
   "source": [
    "# Отсортируем список по началу числа \n",
    "\n",
    "sorted(lst, key=lambda x: int(x[0]))"
   ]
  },
  {
   "cell_type": "raw",
   "id": "f440edd7",
   "metadata": {},
   "source": []
  },
  {
   "cell_type": "code",
   "execution_count": null,
   "id": "479aab7d",
   "metadata": {
    "slideshow": {
     "slide_type": "slide"
    }
   },
   "outputs": [],
   "source": [
    "# Удобны в применении с функциями высшего порядка (map, filter)\n",
    "\n",
    "map(function, iterable)\n",
    "filter(function, iterable)"
   ]
  },
  {
   "cell_type": "code",
   "execution_count": 73,
   "id": "d0fdcf7d",
   "metadata": {
    "slideshow": {
     "slide_type": "subslide"
    }
   },
   "outputs": [
    {
     "data": {
      "text/plain": [
       "<map at 0x7f0f20102b30>"
      ]
     },
     "execution_count": 73,
     "metadata": {},
     "output_type": "execute_result"
    }
   ],
   "source": [
    "# Функция map применяет функцию к каждому элементу итерируемого объекта\n",
    "\n",
    "map(add_two, [1, 2, 3]) # ленивый map"
   ]
  },
  {
   "cell_type": "code",
   "execution_count": 74,
   "id": "d4b5bd84",
   "metadata": {
    "slideshow": {
     "slide_type": "fragment"
    }
   },
   "outputs": [
    {
     "data": {
      "text/plain": [
       "[3, 4, 5]"
      ]
     },
     "execution_count": 74,
     "metadata": {},
     "output_type": "execute_result"
    }
   ],
   "source": [
    "list(map(add_two, [1, 2, 3]))"
   ]
  },
  {
   "cell_type": "code",
   "execution_count": 75,
   "id": "e7587bbb",
   "metadata": {
    "slideshow": {
     "slide_type": "fragment"
    }
   },
   "outputs": [
    {
     "data": {
      "text/plain": [
       "['a', 'b', 'e']"
      ]
     },
     "execution_count": 75,
     "metadata": {},
     "output_type": "execute_result"
    }
   ],
   "source": [
    "# Со строками\n",
    "\n",
    "list(map(lambda s: s.strip(), ['a ', '   b   ', 'e\\n']))"
   ]
  },
  {
   "cell_type": "code",
   "execution_count": 76,
   "id": "76a44bd8",
   "metadata": {
    "slideshow": {
     "slide_type": "subslide"
    }
   },
   "outputs": [
    {
     "data": {
      "text/plain": [
       "{0, 1, 2}"
      ]
     },
     "execution_count": 76,
     "metadata": {},
     "output_type": "execute_result"
    }
   ],
   "source": [
    "# Вывести множество остатков от деления\n",
    "\n",
    "set(map(lambda x: x % 3, range(20)))"
   ]
  },
  {
   "cell_type": "code",
   "execution_count": 77,
   "id": "1ddfdafe",
   "metadata": {
    "slideshow": {
     "slide_type": "slide"
    }
   },
   "outputs": [
    {
     "data": {
      "text/plain": [
       "[1, 3, 5, 7, 9, 11, 13, 15, 17, 19]"
      ]
     },
     "execution_count": 77,
     "metadata": {},
     "output_type": "execute_result"
    }
   ],
   "source": [
    "# filter возвращает элементы, на которые предикат вернул True\n",
    "\n",
    "list(filter(lambda x: x % 2 != 0, range(20)))"
   ]
  },
  {
   "cell_type": "code",
   "execution_count": 78,
   "id": "816281c5",
   "metadata": {
    "slideshow": {
     "slide_type": "fragment"
    }
   },
   "outputs": [
    {
     "data": {
      "text/plain": [
       "[21, 'asdas', {1, 2, 3}]"
      ]
     },
     "execution_count": 78,
     "metadata": {},
     "output_type": "execute_result"
    }
   ],
   "source": [
    "list(filter(None, ['', 21, 'asdas', {1, 2, 3}]))"
   ]
  },
  {
   "cell_type": "code",
   "execution_count": 79,
   "id": "e5ea2bc2",
   "metadata": {
    "slideshow": {
     "slide_type": "slide"
    }
   },
   "outputs": [
    {
     "data": {
      "text/plain": [
       "[(1, 'a', 1.0), (2, 'b', 2.0), (3, 'c', 6.0)]"
      ]
     },
     "execution_count": 79,
     "metadata": {},
     "output_type": "execute_result"
    }
   ],
   "source": [
    "# Zip \"склеивает\" объекты. Строит кортежи элементов с аналогичными индексами в своих последовательностях\n",
    "\n",
    "list(zip([1,2,3], 'abc', [1.0, 2.0, 6.0]))"
   ]
  },
  {
   "cell_type": "code",
   "execution_count": 80,
   "id": "143b24a3",
   "metadata": {
    "slideshow": {
     "slide_type": "subslide"
    }
   },
   "outputs": [
    {
     "data": {
      "text/plain": [
       "[('a', 0), ('b', 1), ('c', 2)]"
      ]
     },
     "execution_count": 80,
     "metadata": {},
     "output_type": "execute_result"
    }
   ],
   "source": [
    "# Похоже на map, не выдает большего числа элементов, чем надо\n",
    "\n",
    "list(zip('abc', range(10)))"
   ]
  },
  {
   "cell_type": "raw",
   "id": "0f069e99",
   "metadata": {},
   "source": []
  },
  {
   "cell_type": "code",
   "execution_count": 82,
   "id": "62b5a571",
   "metadata": {
    "slideshow": {
     "slide_type": "slide"
    }
   },
   "outputs": [
    {
     "name": "stdout",
     "output_type": "stream",
     "text": [
      "[0, 1, 4, 9, 16, 25, 36, 49, 64, 81]\n"
     ]
    }
   ],
   "source": [
    "# Варианты генерации списка \n",
    "\n",
    "a = []\n",
    "for i in range(10):\n",
    "    a.append(i**2)\n",
    "    \n",
    "print(a)"
   ]
  },
  {
   "cell_type": "code",
   "execution_count": 83,
   "id": "4f737ea7",
   "metadata": {
    "slideshow": {
     "slide_type": "fragment"
    }
   },
   "outputs": [
    {
     "data": {
      "text/plain": [
       "[0, 1, 4, 9, 16, 25, 36, 49, 64, 81]"
      ]
     },
     "execution_count": 83,
     "metadata": {},
     "output_type": "execute_result"
    }
   ],
   "source": [
    "# List comprehension \n",
    "\n",
    "[i**2 for i in range(10)]"
   ]
  },
  {
   "cell_type": "code",
   "execution_count": 84,
   "id": "49b0e0d4",
   "metadata": {
    "slideshow": {
     "slide_type": "fragment"
    }
   },
   "outputs": [
    {
     "data": {
      "text/plain": [
       "[0, 1, 4, 9, 16, 25, 36, 49, 64, 81]"
      ]
     },
     "execution_count": 84,
     "metadata": {},
     "output_type": "execute_result"
    }
   ],
   "source": [
    "list(map(lambda x: x**2, range(10)))"
   ]
  },
  {
   "cell_type": "code",
   "execution_count": 85,
   "id": "79e8c4f7",
   "metadata": {
    "slideshow": {
     "slide_type": "subslide"
    }
   },
   "outputs": [],
   "source": [
    "a = [x ** 2 for x in range(10) if x % 2 == 1]\n",
    "\n",
    "b = list(map(lambda x: x ** 2, filter(lambda x: x % 2 == 1, range(10))))"
   ]
  },
  {
   "cell_type": "code",
   "execution_count": 86,
   "id": "f46786ea",
   "metadata": {
    "slideshow": {
     "slide_type": "fragment"
    }
   },
   "outputs": [
    {
     "data": {
      "text/plain": [
       "[1, 9, 25, 49, 81]"
      ]
     },
     "execution_count": 86,
     "metadata": {},
     "output_type": "execute_result"
    }
   ],
   "source": [
    "a"
   ]
  },
  {
   "cell_type": "code",
   "execution_count": 87,
   "id": "a8eed428",
   "metadata": {
    "slideshow": {
     "slide_type": "fragment"
    }
   },
   "outputs": [
    {
     "data": {
      "text/plain": [
       "True"
      ]
     },
     "execution_count": 87,
     "metadata": {},
     "output_type": "execute_result"
    }
   ],
   "source": [
    "a == b"
   ]
  },
  {
   "cell_type": "code",
   "execution_count": 91,
   "id": "496ece34",
   "metadata": {
    "slideshow": {
     "slide_type": "slide"
    }
   },
   "outputs": [
    {
     "data": {
      "text/plain": [
       "{1, 2, 5, 6}"
      ]
     },
     "execution_count": 91,
     "metadata": {},
     "output_type": "execute_result"
    }
   ],
   "source": [
    "# Можно таким же образом создать множество и словарь\n",
    "\n",
    "{x % 7 for x in [1, 9, 16, -1, 2, 5]}"
   ]
  },
  {
   "cell_type": "code",
   "execution_count": 98,
   "id": "8b1958f5",
   "metadata": {
    "slideshow": {
     "slide_type": "subslide"
    }
   },
   "outputs": [
    {
     "data": {
      "text/plain": [
       "{'year': 2014, 'month': 'September'}"
      ]
     },
     "execution_count": 98,
     "metadata": {},
     "output_type": "execute_result"
    }
   ],
   "source": [
    "date = {\"year\": 2014,\n",
    "        \"month\": \"September\",\n",
    "        \"day\": \"\"}\n",
    "\n",
    "{k: v for k, v in date.items() if v}"
   ]
  },
  {
   "cell_type": "code",
   "execution_count": 102,
   "id": "0a7af52e",
   "metadata": {
    "slideshow": {
     "slide_type": "fragment"
    }
   },
   "outputs": [
    {
     "name": "stdout",
     "output_type": "stream",
     "text": [
      "{0: 0, 1: 1, 2: 4, 3: 9}\n",
      "{0: 0, 1: 1, 2: 4, 3: 9}\n"
     ]
    }
   ],
   "source": [
    "# вариант 1\n",
    "print({x: x ** 2 for x in range(4)})\n",
    "\n",
    "# вариант 2\n",
    "squares = {}\n",
    "for x in range(4):\n",
    "    squares[x] = x**2\n",
    "    \n",
    "print(squares)"
   ]
  },
  {
   "cell_type": "raw",
   "id": "fb60680a",
   "metadata": {},
   "source": []
  },
  {
   "cell_type": "code",
   "execution_count": 93,
   "id": "c173972d",
   "metadata": {
    "slideshow": {
     "slide_type": "slide"
    }
   },
   "outputs": [],
   "source": [
    "# generator expression\n",
    "# Но если мы поставим круглые скобки, то получим объект, по которому можно итерироваться \n",
    "\n",
    "generator = (i for i in range(10))"
   ]
  },
  {
   "cell_type": "code",
   "execution_count": 95,
   "id": "f67a863b",
   "metadata": {
    "slideshow": {
     "slide_type": "fragment"
    }
   },
   "outputs": [
    {
     "data": {
      "text/plain": [
       "<generator object <genexpr> at 0x7f0f02cdcba0>"
      ]
     },
     "execution_count": 95,
     "metadata": {},
     "output_type": "execute_result"
    }
   ],
   "source": [
    "generator"
   ]
  },
  {
   "cell_type": "code",
   "execution_count": 96,
   "id": "3bfe8f98",
   "metadata": {
    "slideshow": {
     "slide_type": "fragment"
    }
   },
   "outputs": [
    {
     "data": {
      "text/plain": [
       "<generator object <genexpr> at 0x7f0f02cdcba0>"
      ]
     },
     "execution_count": 96,
     "metadata": {},
     "output_type": "execute_result"
    }
   ],
   "source": [
    "iter(generator)"
   ]
  },
  {
   "cell_type": "code",
   "execution_count": 94,
   "id": "7ddf97b3",
   "metadata": {
    "slideshow": {
     "slide_type": "subslide"
    }
   },
   "outputs": [
    {
     "name": "stdout",
     "output_type": "stream",
     "text": [
      "0\n",
      "1\n",
      "2\n",
      "3\n",
      "4\n",
      "5\n",
      "6\n",
      "7\n",
      "8\n",
      "9\n"
     ]
    }
   ],
   "source": [
    "for num in generator:\n",
    "    print(num)"
   ]
  },
  {
   "cell_type": "markdown",
   "id": "0fb97971",
   "metadata": {
    "slideshow": {
     "slide_type": "subslide"
    }
   },
   "source": [
    "Follow PEP!\n",
    "\n",
    "Pep 8: https://www.python.org/dev/peps/pep-0008/"
   ]
  }
 ],
 "metadata": {
  "celltoolbar": "Slideshow",
  "kernelspec": {
   "display_name": "Python 3 (ipykernel)",
   "language": "python",
   "name": "python3"
  },
  "language_info": {
   "codemirror_mode": {
    "name": "ipython",
    "version": 3
   },
   "file_extension": ".py",
   "mimetype": "text/x-python",
   "name": "python",
   "nbconvert_exporter": "python",
   "pygments_lexer": "ipython3",
   "version": "3.8.10"
  }
 },
 "nbformat": 4,
 "nbformat_minor": 5
}
